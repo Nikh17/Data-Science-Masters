{
 "cells": [
  {
   "cell_type": "markdown",
   "id": "8f0719c2-d031-4057-ab10-d24b6cc09c10",
   "metadata": {},
   "source": [
    "Q1. You are writing code for a company. The requirement of the company is that you create a python\n",
    "function that will check whether the password entered by the user is correct or not. The function should\n",
    "take the password as input and return the string “Valid Password” if the entered password follows the\n",
    "below-given password guidelines else it should return “Invalid Password”."
   ]
  },
  {
   "cell_type": "markdown",
   "id": "68559b94-66ae-4d83-9391-b26f38745731",
   "metadata": {},
   "source": [
    "Note: 1. The Password should contain at least two uppercase letters and at least two lowercase letters.\n",
    "2. The Password should contain at least a number and three special characters.\n",
    "3. The length of the password should be 10 characters long."
   ]
  },
  {
   "cell_type": "code",
   "execution_count": 1,
   "id": "33c568e8-035a-4f1d-98d6-3f7c4314d946",
   "metadata": {},
   "outputs": [
    {
     "name": "stdin",
     "output_type": "stream",
     "text": [
      "Enter the password asdajmc smdc\n"
     ]
    },
    {
     "name": "stdout",
     "output_type": "stream",
     "text": [
      "Invalid Password\n",
      "None\n"
     ]
    }
   ],
   "source": [
    "a = input(\"Enter the password\")\n",
    "def pswd(a):\n",
    "    w= upper_count = 0\n",
    "    x= lower_count = 0\n",
    "    y= num_count = 0\n",
    "    z= special_character = 0\n",
    "    \n",
    "    for i in a :\n",
    "        if i.isupper() == True:\n",
    "            w =w+1\n",
    "        elif i.islower()== True:\n",
    "            x = x+1\n",
    "        elif i.isdigit() == True:\n",
    "            y =y+1\n",
    "        else:\n",
    "            z= z+1\n",
    "    if w>2 and x>2 and y>1 and z>3:\n",
    "        return(\"Valid Password\")\n",
    "    else:\n",
    "        print(\"Invalid Password\")\n",
    "    \n",
    "    \n",
    "print(pswd(a))\n",
    "\n",
    "\n"
   ]
  },
  {
   "cell_type": "markdown",
   "id": "6dce279a-9aa0-4b33-904e-aa7ae9938eea",
   "metadata": {},
   "source": [
    "Q2. Solve the below-given questions using at least one of the following:\n",
    "1. Lambda function\n",
    "2. Filter function\n",
    "3. Map function\n",
    "4. List Comprehension\n",
    "\n",
    "\n",
    "B Check if the string starts with a particular letterY\n",
    "B Check if the string is numericY\n",
    "B Sort a list of tuples having fruit names and their quantity. [(\"mango\",99),(\"orange\",80), (\"grapes\", 1000)-\n",
    "B Find the squares of numbers from 1 to 10Y\n",
    "B Find the cube root of numbers from 1 to 10Y\n",
    "B Check if a given number is evenY\n",
    "B Filter odd numbers from the given list.\n",
    "[1,2,3,4,5,6,7,8,9,10-\n",
    "B Sort a list of integers into positive and negative integers lists.\n",
    "[1,2,3,4,5,6,-1,-2,-3,-4,-5,0]"
   ]
  },
  {
   "cell_type": "code",
   "execution_count": 2,
   "id": "34eecbb2-35a5-42bb-b7a5-195aadb94075",
   "metadata": {},
   "outputs": [
    {
     "data": {
      "text/plain": [
       "True"
      ]
     },
     "execution_count": 2,
     "metadata": {},
     "output_type": "execute_result"
    }
   ],
   "source": [
    "#Check if the string starts with a particular letterY\n",
    "\n",
    "s = \"nikhil\"\n",
    "s1 = True if s[0]==\"n\" else false\n",
    "s1\n"
   ]
  },
  {
   "cell_type": "markdown",
   "id": "c77e2d3f-ef82-4032-bbae-1c8a26232fc4",
   "metadata": {},
   "source": [
    "fdfd"
   ]
  },
  {
   "cell_type": "code",
   "execution_count": 54,
   "id": "3daa1a23-27c6-400a-b820-4948870655e9",
   "metadata": {},
   "outputs": [
    {
     "data": {
      "text/plain": [
       "True"
      ]
     },
     "execution_count": 54,
     "metadata": {},
     "output_type": "execute_result"
    }
   ],
   "source": [
    "## Check if the string is numericY\n",
    "m = \"12368\"\n",
    "m1 = True if m.isnumeric()== True else false\n",
    "m1"
   ]
  },
  {
   "cell_type": "code",
   "execution_count": 1,
   "id": "164d5ed9-66f7-489e-a92f-26a0869f8767",
   "metadata": {},
   "outputs": [
    {
     "data": {
      "text/plain": [
       "[('orange', 80), ('mango', 99), ('grapes', 1000)]"
      ]
     },
     "execution_count": 1,
     "metadata": {},
     "output_type": "execute_result"
    }
   ],
   "source": [
    "####Sort a list of tuples having fruit names and their quantity. \n",
    "fruits = [(\"mango\",99),(\"orange\",80), (\"grapes\", 1000)]\n",
    "l = sorted(fruits, key = lambda x: x[1])\n",
    "l\n",
    "\n"
   ]
  },
  {
   "cell_type": "code",
   "execution_count": null,
   "id": "839ae8d4-131b-416d-8d83-a66f788db1ec",
   "metadata": {},
   "outputs": [],
   "source": []
  },
  {
   "cell_type": "code",
   "execution_count": 2,
   "id": "3e8c2614-cc21-446e-951f-d9e3bca8cb7b",
   "metadata": {},
   "outputs": [
    {
     "data": {
      "text/plain": [
       "[1, 4, 9, 16, 25, 36, 49, 64, 81, 100]"
      ]
     },
     "execution_count": 2,
     "metadata": {},
     "output_type": "execute_result"
    }
   ],
   "source": [
    "# Find the squares of numbers from 1 to 10\n",
    "\n",
    "l = [1,2,3,4,5,6,7,8,9,10]\n",
    "list(map(lambda x : x**2, l))\n"
   ]
  },
  {
   "cell_type": "code",
   "execution_count": 3,
   "id": "cbd847e2-5d0c-4101-b37e-705f79b70595",
   "metadata": {},
   "outputs": [
    {
     "data": {
      "text/plain": [
       "[1.0,\n",
       " 1.2599210498948732,\n",
       " 1.4422495703074083,\n",
       " 1.5874010519681994,\n",
       " 1.7099759466766968,\n",
       " 1.8171205928321397,\n",
       " 1.912931182772389,\n",
       " 2.0,\n",
       " 2.080083823051904,\n",
       " 2.154434690031884]"
      ]
     },
     "execution_count": 3,
     "metadata": {},
     "output_type": "execute_result"
    }
   ],
   "source": [
    "l = [1,2,3,4,5,6,7,8,9,10]\n",
    "list(map(lambda x : x**(1./3), l))\n"
   ]
  },
  {
   "cell_type": "code",
   "execution_count": 4,
   "id": "6bbc36b9-b175-4004-a106-4741b7de620c",
   "metadata": {},
   "outputs": [
    {
     "data": {
      "text/plain": [
       "[2, 4, 6, 8, 10]"
      ]
     },
     "execution_count": 4,
     "metadata": {},
     "output_type": "execute_result"
    }
   ],
   "source": [
    "####Check if a given number is evenY\n",
    "l = [1,2,3,4,5,6,7,8,9,10]\n",
    "list(filter(lambda x : x%2==0, l))"
   ]
  },
  {
   "cell_type": "code",
   "execution_count": 5,
   "id": "c50224b1-884b-4f1e-a590-68cafdb4b414",
   "metadata": {},
   "outputs": [
    {
     "data": {
      "text/plain": [
       "[1, 3, 5, 7, 9]"
      ]
     },
     "execution_count": 5,
     "metadata": {},
     "output_type": "execute_result"
    }
   ],
   "source": [
    "####B Filter odd numbers from the given list.\n",
    "l = [1,2,3,4,5,6,7,8,9,10]\n",
    "list(filter(lambda x: x%2 != 0, l))"
   ]
  },
  {
   "cell_type": "code",
   "execution_count": 6,
   "id": "ea9e7dae-8061-4287-b55a-a61afc6e6e36",
   "metadata": {},
   "outputs": [
    {
     "name": "stdout",
     "output_type": "stream",
     "text": [
      "Positive Integer List = [1, 2, 3, 4, 5, 6, 0]\n",
      "negative inteeger list = [-1, -2, -3, -4, -5]\n"
     ]
    }
   ],
   "source": [
    "###Sort a list of integers into positive and negative integers lists.####Sort a list of integers into positive and negative integers lists.\n",
    "l = [1,2,3,4,5,6,-1,-2,-3,-4,-5,0]\n",
    "l1 = filter(lambda x:x>=0,l)\n",
    "l2 = filter(lambda x:x<0, l)\n",
    "print(f'Positive Integer List = {list(l1)}')\n",
    "print(f'negative inteeger list = {list(l2)}')\n",
    "\n"
   ]
  },
  {
   "cell_type": "code",
   "execution_count": null,
   "id": "8c64f9da-b45d-4f13-85e6-82a2fef03749",
   "metadata": {},
   "outputs": [],
   "source": []
  }
 ],
 "metadata": {
  "kernelspec": {
   "display_name": "Python 3 (ipykernel)",
   "language": "python",
   "name": "python3"
  },
  "language_info": {
   "codemirror_mode": {
    "name": "ipython",
    "version": 3
   },
   "file_extension": ".py",
   "mimetype": "text/x-python",
   "name": "python",
   "nbconvert_exporter": "python",
   "pygments_lexer": "ipython3",
   "version": "3.10.8"
  }
 },
 "nbformat": 4,
 "nbformat_minor": 5
}
