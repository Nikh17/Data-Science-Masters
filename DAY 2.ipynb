{
 "cells": [
  {
   "cell_type": "code",
   "execution_count": 9,
   "id": "8174b3b7-156c-4319-98e0-f7afa27325af",
   "metadata": {},
   "outputs": [
    {
     "name": "stdin",
     "output_type": "stream",
     "text": [
      "Enter your age 43\n"
     ]
    },
    {
     "name": "stdout",
     "output_type": "stream",
     "text": [
      "You are a young blood\n"
     ]
    }
   ],
   "source": [
    "age=int(input(\"Enter your age\"))\n",
    "if age>=18 and age<=45:\n",
    "    print(\"You are a young blood\")\n",
    "else:\n",
    "    print(\"You are best\")"
   ]
  },
  {
   "cell_type": "code",
   "execution_count": null,
   "id": "1011545a-a3ce-4c75-bd6b-e22085ddb4e3",
   "metadata": {},
   "outputs": [],
   "source": [
    "## mall- \n",
    "## product> 1000rs 20%off\n",
    "## print the product price\n",
    "## product <= 1000rs 30%off\n",
    "# print the product price\n"
   ]
  },
  {
   "cell_type": "code",
   "execution_count": 41,
   "id": "31bdb251-6a97-4684-bb71-7091184241f1",
   "metadata": {},
   "outputs": [
    {
     "name": "stdin",
     "output_type": "stream",
     "text": [
      "Enter the price 2000\n"
     ]
    },
    {
     "name": "stdout",
     "output_type": "stream",
     "text": [
      "The price of this product is 1400.0 after 30% off\n"
     ]
    }
   ],
   "source": [
    "product_price=int(input(\"Enter the price\"))\n",
    "if product_price>3000:\n",
    "    print(f\"The price of this product is {product_price*0.8} after 20% off\")\n",
    "    if product_price==4000:\n",
    "        print(\"You get a Goa Trip\")\n",
    "\n",
    "elif product_price>=2000 and product_price<=3000:\n",
    "    print(f\"The price of this product is {product_price*0.7} after 30% off\")\n",
    "    #the below process is known as nested if\n",
    "    if product_price==2999:\n",
    "        print(\"Congratulations you'll get an additional offer\")\n",
    "\n",
    "elif product_price>=100 and product_price<2000:\n",
    "    print(f\"The price of this product is {product_price*0.6} after 40% off\")\n",
    "else:\n",
    "    print(\"You are broke dear.Let's have some tea\")"
   ]
  },
  {
   "cell_type": "code",
   "execution_count": 31,
   "id": "f6fb3677-e430-4dea-a998-dea2e00205ff",
   "metadata": {},
   "outputs": [],
   "source": [
    "#product_price=int(input(\"Enter the price\"))\n",
    "#if product_price>3000:\n",
    "    #print(\"The price of the product is {}\".format(product_price*0.8))\n",
    "#else:\n",
    "    #print(\"The price of the product is {}\".format(product_price*0.7))\n",
    "          "
   ]
  },
  {
   "cell_type": "code",
   "execution_count": null,
   "id": "f5ee1915-35e5-4218-89af-cccaee510e4c",
   "metadata": {},
   "outputs": [],
   "source": []
  },
  {
   "cell_type": "code",
   "execution_count": null,
   "id": "11597d8f-c37a-4d51-b7cd-e41ff80fcac0",
   "metadata": {},
   "outputs": [],
   "source": []
  },
  {
   "cell_type": "code",
   "execution_count": null,
   "id": "2e808da4-3cdc-4812-ab34-0ebc434deec6",
   "metadata": {},
   "outputs": [],
   "source": []
  },
  {
   "cell_type": "code",
   "execution_count": null,
   "id": "3dd0f1a2-4870-4791-bd42-973d9acb82d8",
   "metadata": {},
   "outputs": [],
   "source": []
  }
 ],
 "metadata": {
  "kernelspec": {
   "display_name": "Python 3 (ipykernel)",
   "language": "python",
   "name": "python3"
  },
  "language_info": {
   "codemirror_mode": {
    "name": "ipython",
    "version": 3
   },
   "file_extension": ".py",
   "mimetype": "text/x-python",
   "name": "python",
   "nbconvert_exporter": "python",
   "pygments_lexer": "ipython3",
   "version": "3.10.8"
  }
 },
 "nbformat": 4,
 "nbformat_minor": 5
}
