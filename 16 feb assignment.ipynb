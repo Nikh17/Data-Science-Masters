{
 "cells": [
  {
   "cell_type": "markdown",
   "id": "0b00e7da-45e9-43e6-910a-c9a6aeaad56b",
   "metadata": {},
   "source": [
    "Q1. What is a database? Differentiate between SQL and NoSQL databases."
   ]
  },
  {
   "cell_type": "markdown",
   "id": "0c64b39b-3b67-4d9a-97f0-e718930191cd",
   "metadata": {},
   "source": [
    "A database is a storage where a collection of data is stored and enables user to manage and manipulate the data. SQL and NoSQL are two  famous databases.\n",
    "\n",
    "SQL databases are knowns as RDBMS because it holds the data in the form of tabular form and they are well known for their ability to handle complex queries and transactions. Some examples of SQL databases are MySQL, Oracle, Microsoft SQL Server, and PostgreSQL.\n",
    "\n",
    "While NoSQL are new type of databases where data is stored in different forms like graph,text,document etc.They are commonly used for web applications, big data, and real-time analytics. Some examples of NoSQL databases are MongoDB, Cassandra, Redis, and Apache HBase.\n"
   ]
  },
  {
   "cell_type": "markdown",
   "id": "04f5cfce-4d0b-42b0-89e2-6fb69df130cf",
   "metadata": {},
   "source": [
    "Q.2 Q2. What is DDL? Explain why CREATE, DROP, ALTER, and TRUNCATE are used with an example."
   ]
  },
  {
   "cell_type": "markdown",
   "id": "c9248265-53f2-4c95-bbc5-2aa00d972977",
   "metadata": {},
   "source": [
    "DDL stands for Data Definition Language and it helps to deal with the structure of the table.DDL has various commmands:\n",
    "\n",
    "1.CREATE- It helps to create objects in the database\n",
    "\n",
    "2.ALTER- It is used to modify the structure of existing databases such as removing/adding a coloumn.\n",
    "\n",
    "3.DROP- It is used to delete the object from database.\n",
    "\n",
    "4.TRUNCATE- It is used to delete all data from the table.\n"
   ]
  },
  {
   "cell_type": "markdown",
   "id": "766f05cb-b977-41b6-987d-cc778a69b91d",
   "metadata": {},
   "source": [
    "Q3. What is DML? Explain INSERT, UPDATE, and DELETE with an example."
   ]
  },
  {
   "cell_type": "markdown",
   "id": "02560273-2a56-420b-999e-22c997e51002",
   "metadata": {},
   "source": [
    "DML stands for  Data Maipulation Language and using this we can manipulate the data inside the table using these commands:\n",
    "    \n",
    "1.INSERT- This is used to  insert new data in the table.\n",
    "\n",
    "2.UPDATE- This is used to modify existing data of the table.\n",
    "\n",
    "3.DELETE- This is used to remove data from the table."
   ]
  },
  {
   "cell_type": "markdown",
   "id": "d311e447-d04e-4e53-8343-32f9ff559dc9",
   "metadata": {},
   "source": [
    "Q4. What is DQL? Explain SELECT with an example."
   ]
  },
  {
   "cell_type": "markdown",
   "id": "b45cec42-5053-490f-9fb1-fcba5504e632",
   "metadata": {},
   "source": [
    "DQL stands for Data Query Language and used to perform queries on tables to retrieve specific data based on certain conditions. The most common DQL command is SELECT, which is used to retrieve data from one or more tables."
   ]
  },
  {
   "cell_type": "markdown",
   "id": "774134ab-9b4c-4da6-8b41-6502d124e3bf",
   "metadata": {},
   "source": [
    "SELECT * FROM customers;\n"
   ]
  },
  {
   "cell_type": "markdown",
   "id": "559fdd6f-045c-4449-a14d-ed531981dced",
   "metadata": {},
   "source": [
    "Q5. Explain Primary Key and Foreign Key."
   ]
  },
  {
   "cell_type": "markdown",
   "id": "239baf30-371e-448d-8de4-31db391348ba",
   "metadata": {},
   "source": [
    "A primary key is a column or combination of columns in a table that uniquely identifies each row in the table. It must have a unique value for each row and cannot be null.\n",
    "\n",
    "A foreign key is a column or combination of columns in a table that refers to the primary key of another table. It is used to establish relationships between tables by linking related data."
   ]
  },
  {
   "cell_type": "markdown",
   "id": "da5e8cc5-844b-45a7-a672-becc2becdaa6",
   "metadata": {},
   "source": [
    "Q6. Write a python code to connect MySQL to python. Explain the cursor() and execute() method."
   ]
  },
  {
   "cell_type": "code",
   "execution_count": null,
   "id": "05fff180-30cb-4dce-8269-50283fd9706a",
   "metadata": {},
   "outputs": [],
   "source": [
    "import mysql.connector\n",
    "\n",
    "# Connect to the MySQL server\n",
    "cnx = mysql.connector.connect(\n",
    "    host=\"localhost\",\n",
    "    user=\"username\",\n",
    "    password=\"password\",\n",
    "    database=\"mydatabase\"\n",
    ")\n",
    "\n",
    "# Create a cursor object\n",
    "cursor = cnx.cursor()\n",
    "\n",
    "# Execute a SELECT statement\n",
    "query = \"SELECT * FROM customers\"\n",
    "cursor.execute(query)\n",
    "\n",
    "# Fetch the results and print them\n",
    "for row in cursor.fetchall():\n",
    "    print(row)\n",
    "\n",
    "# Close the cursor and connection\n",
    "cursor.close()\n",
    "cnx.close()\n"
   ]
  },
  {
   "cell_type": "markdown",
   "id": "f7ee11a6-e39f-436e-8c90-23d47aebc6dd",
   "metadata": {},
   "source": [
    "The cursor() method creates a cursor object, which is used to execute SQL statements and fetch results. The cursor() method takes no arguments and returns a cursor object.\n",
    "\n",
    "\n",
    "The execute() method is used to execute an SQL statement. It takes a single argument, which is the SQL statement to execute. The execute() method returns None if the SQL statement does not return any rows, or a cursor object if the SQL statement returns rows.\n"
   ]
  },
  {
   "cell_type": "markdown",
   "id": "2a9e0dea-17ba-4d2b-82b5-ff46a7cba58d",
   "metadata": {},
   "source": [
    "Q7. Give the order of execution of SQL clauses in an SQL query."
   ]
  },
  {
   "cell_type": "code",
   "execution_count": null,
   "id": "171b0c1e-c235-4b53-9678-20b002b7eeef",
   "metadata": {},
   "outputs": [],
   "source": [
    "FROM clause\n",
    "ON clause\n",
    "OUTER clause\n",
    "WHERE clause\n",
    "GROUP BY clause\n",
    "HAVING clause\n",
    "SELECT clause\n",
    "DISTINCT clause\n",
    "ORDER BY clause\n",
    "TOP clause"
   ]
  }
 ],
 "metadata": {
  "kernelspec": {
   "display_name": "Python 3 (ipykernel)",
   "language": "python",
   "name": "python3"
  },
  "language_info": {
   "codemirror_mode": {
    "name": "ipython",
    "version": 3
   },
   "file_extension": ".py",
   "mimetype": "text/x-python",
   "name": "python",
   "nbconvert_exporter": "python",
   "pygments_lexer": "ipython3",
   "version": "3.10.8"
  }
 },
 "nbformat": 4,
 "nbformat_minor": 5
}
