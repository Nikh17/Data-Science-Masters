{
 "cells": [
  {
   "cell_type": "code",
   "execution_count": null,
   "id": "ac68f921-6ed7-4965-8843-516361277a7c",
   "metadata": {},
   "outputs": [],
   "source": [
    "##Q.1 What are the characteristics of the tuples? Is tuple immutable?"
   ]
  },
  {
   "cell_type": "markdown",
   "id": "8d490624-236d-476c-ade7-1d8a4e605dd1",
   "metadata": {},
   "source": [
    "Ans- Tuple is a built-in data type used to store collection of data. It is immutable, ordered and iterable. IT can also be accessed by indexing."
   ]
  },
  {
   "cell_type": "code",
   "execution_count": null,
   "id": "241dc23a-54ed-44b6-8523-f30ec209cf79",
   "metadata": {},
   "outputs": [],
   "source": [
    "##Q2. What are the two tuple methods in python? Give an example of each method. Give a reason why  tuples have only two in-built methods as compared to Lists."
   ]
  },
  {
   "cell_type": "markdown",
   "id": "d877fd25-3ad3-4b88-bc64-710f45ad2445",
   "metadata": {},
   "source": [
    "Ans-t.count() and t.index() are two tuple methods."
   ]
  },
  {
   "cell_type": "code",
   "execution_count": 2,
   "id": "53d62cb7-e98e-4a5b-8cd4-3b81db2725b5",
   "metadata": {},
   "outputs": [
    {
     "data": {
      "text/plain": [
       "3"
      ]
     },
     "execution_count": 2,
     "metadata": {},
     "output_type": "execute_result"
    }
   ],
   "source": [
    "t1=(1,3,5,5,5,34,44,44,57,\"nikhil\",45.67)\n",
    "t1.count(5)\n",
    "\n"
   ]
  },
  {
   "cell_type": "code",
   "execution_count": 3,
   "id": "d601f177-bf9a-4803-b25f-9ac47cc2a93c",
   "metadata": {},
   "outputs": [
    {
     "data": {
      "text/plain": [
       "9"
      ]
     },
     "execution_count": 3,
     "metadata": {},
     "output_type": "execute_result"
    }
   ],
   "source": [
    "t1.index(\"nikhil\")"
   ]
  },
  {
   "cell_type": "markdown",
   "id": "dabc5e75-e67a-461d-9f81-d3b47acc64d3",
   "metadata": {},
   "source": [
    "This is because methods that can add or remove items are not available in the tuple.\n"
   ]
  },
  {
   "cell_type": "code",
   "execution_count": null,
   "id": "ec932fe6-50a4-46e4-a544-f78a0b720734",
   "metadata": {},
   "outputs": [],
   "source": [
    "## Q3.  Which collection datatypes in python do not allow duplicate items? Write a code using a set to remove  duplicates from the given list. \n",
    "List = [1, 1, 1, 2, 1, 3, 1, 4, 2, 1, 2, 2, 2, 3, 2, 4, 3, 1, 3, 2, 3, 3, 3, 4, 4, 1, 4, 2, 4, 3, 4, 4] \n"
   ]
  },
  {
   "cell_type": "markdown",
   "id": "5c1e35c0-d247-47cc-823c-dba83248dafa",
   "metadata": {},
   "source": [
    "Ans- Set do nt allow duplicate items."
   ]
  },
  {
   "cell_type": "code",
   "execution_count": 5,
   "id": "8f6b28e0-3d4a-4b87-ba1f-5b8ef6dd8fbf",
   "metadata": {},
   "outputs": [
    {
     "data": {
      "text/plain": [
       "{1, 2, 3, 4}"
      ]
     },
     "execution_count": 5,
     "metadata": {},
     "output_type": "execute_result"
    }
   ],
   "source": [
    "List = [1, 1, 1, 2, 1, 3, 1, 4, 2, 1, 2, 2, 2, 3, 2, 4, 3, 1, 3, 2, 3, 3, 3, 4, 4, 1, 4, 2, 4, 3, 4, 4]\n",
    "set(List)"
   ]
  },
  {
   "cell_type": "code",
   "execution_count": null,
   "id": "a6cf1dc8-1cf5-4cdc-b183-7d1dd0a3854a",
   "metadata": {},
   "outputs": [],
   "source": [
    "##Q4. Explain the difference between the union() and update() methods for a set. Give an example of  each method."
   ]
  },
  {
   "cell_type": "markdown",
   "id": "01f6c179-1753-4277-a6e6-c88e018ee6ff",
   "metadata": {},
   "source": [
    "Ans- We can peforme the union using both the methods but the difference between these two is set.update() adds all the missing elements to the set on which it is called while set.union() cretes a new set including all the elements "
   ]
  },
  {
   "cell_type": "code",
   "execution_count": 16,
   "id": "7a189ec8-1e30-4afa-bb38-a26ac965a97d",
   "metadata": {},
   "outputs": [
    {
     "data": {
      "text/plain": [
       "{2, 3, 6, 7, 78, 8.6, 94, 'floor', 'man', 'mountain', 'wiper'}"
      ]
     },
     "execution_count": 16,
     "metadata": {},
     "output_type": "execute_result"
    }
   ],
   "source": [
    "set1 = {2,3,6,7,\"mountain\",\"floor\"}\n",
    "set2 = {78,94,8.6,\"man\",\"wiper\"}\n",
    "set2.union(set1)"
   ]
  },
  {
   "cell_type": "code",
   "execution_count": 20,
   "id": "5ce58a15-9c42-48e9-a9cc-c8768cf7b816",
   "metadata": {},
   "outputs": [
    {
     "data": {
      "text/plain": [
       "{2, 3, 6, 7, 78, 8.6, 94, 'floor', 'man', 'mountain', 'wiper'}"
      ]
     },
     "execution_count": 20,
     "metadata": {},
     "output_type": "execute_result"
    }
   ],
   "source": [
    "set1 = {2,3,6,7,\"mountain\",\"floor\"}\n",
    "set2 = {78,94,8.6,\"man\",\"wiper\"}\n",
    "set1.update(set2)\n",
    "set1"
   ]
  },
  {
   "cell_type": "code",
   "execution_count": null,
   "id": "c184633a-49c5-4eda-9311-27be238dec15",
   "metadata": {},
   "outputs": [],
   "source": [
    "##Q5. What is a dictionary? Give an example. Also, state whether a dictionary is ordered or unordered. \n"
   ]
  },
  {
   "cell_type": "markdown",
   "id": "04a7ada2-982d-448b-a3a4-d8592d3cccf7",
   "metadata": {},
   "source": [
    "Ans- Dictionary is a collection of key-value pairs.\n",
    "Syntax: \n",
    "    a={\"key\":\"value\"}\n",
    "      {\"nikhil\":\"student\"}\n",
    "      {\"occupation\":\"study\"}\n",
    "    \n",
    "Dictionary is unordered, mutable and cannot contain duplicate keys."
   ]
  },
  {
   "cell_type": "code",
   "execution_count": null,
   "id": "ac920d02-e300-4e11-8bdf-eaf0e72207a5",
   "metadata": {},
   "outputs": [],
   "source": [
    "##Q6. Can we create a nested dictionary? If so, please give an example by creating a simple one-level  nested dictionary."
   ]
  },
  {
   "cell_type": "markdown",
   "id": "54705ddc-293c-466a-b484-7692d9130a39",
   "metadata": {},
   "source": [
    "Ans- Yes, we can easily create nested dictionary.\n",
    "\n"
   ]
  },
  {
   "cell_type": "code",
   "execution_count": 30,
   "id": "b450fc35-cce1-405b-8c04-7170fe94776c",
   "metadata": {},
   "outputs": [
    {
     "name": "stdout",
     "output_type": "stream",
     "text": [
      "{'name': 'nikhil', 'age': '22', 'college': 'JNU'}\n"
     ]
    }
   ],
   "source": [
    "nested_dictionary={\n",
    "    \"dict1\":{\"name\":\"nikhil\",\"age\":\"22\",\"college\":\"JNU\"},\n",
    "    \"dict2\":{\"job\":\"freelancer\",\"graduation\":\"Korean\"},\n",
    "}\n",
    "print(nested_dictionary[\"dict1\"])"
   ]
  },
  {
   "cell_type": "code",
   "execution_count": 25,
   "id": "ebfa4011-4928-45ab-aaa0-5fa63f6eb46b",
   "metadata": {},
   "outputs": [],
   "source": [
    "##Q7. Using setdefault() method, create key named topics in the given dictionary and also add the value of  the key as this list ['Python', 'Machine Learning’, 'Deep Learning'] \n",
    "dict1 = {'language' : 'Python', 'course': 'Data Science Masters'} \n"
   ]
  },
  {
   "cell_type": "code",
   "execution_count": 34,
   "id": "c7af9540-03b5-480e-aee2-af7dddf84df4",
   "metadata": {},
   "outputs": [
    {
     "name": "stdout",
     "output_type": "stream",
     "text": [
      "{'language': 'Python', 'course': 'Data Science Masters', 'topics': ['Python', 'Machine Learning', 'Deep Learning']}\n"
     ]
    }
   ],
   "source": [
    "dict1 = {'language' : 'Python', 'course': 'Data Science Masters'}\n",
    "dict1.setdefault(\"topics\",[\"Python\",\"Machine Learning\",\"Deep Learning\"])\n",
    "print(dict1)"
   ]
  },
  {
   "cell_type": "code",
   "execution_count": 33,
   "id": "b479d50b-b92a-4606-a516-2d54a0124ce2",
   "metadata": {},
   "outputs": [],
   "source": [
    "##Q8. What are the three view objects in dictionaries? Use the three in-built methods in python to display  these three view objects for the given dictionary. \n",
    "dict1 = {'Sport': 'Cricket' , 'Teams': ['India', 'Australia', 'England', 'South Africa', 'Sri Lanka', 'New Zealand']} \n"
   ]
  },
  {
   "cell_type": "markdown",
   "id": "39ec5217-245b-46d2-a0b9-ed34961b8ba2",
   "metadata": {},
   "source": [
    "Ans- a.keys()- Displays a list of all the keys\n",
    "a.values()- Displays a list of all the values\n",
    "a.items()- Displays a list of all the key-value pairs in form of tuples\n"
   ]
  },
  {
   "cell_type": "code",
   "execution_count": 36,
   "id": "2cf1d4d2-77a2-4fa4-b7e4-e8b260165090",
   "metadata": {},
   "outputs": [
    {
     "name": "stdout",
     "output_type": "stream",
     "text": [
      "dict_keys(['Sport', 'Teams'])\n"
     ]
    }
   ],
   "source": [
    "dict1 = {'Sport': 'Cricket' , 'Teams': ['India', 'Australia', 'England', 'South Africa', 'Sri Lanka', 'New Zealand']}\n",
    "print(dict1.keys())"
   ]
  },
  {
   "cell_type": "code",
   "execution_count": null,
   "id": "d7e025de-d3fd-4604-983d-2e31cd1cae67",
   "metadata": {},
   "outputs": [],
   "source": [
    "print("
   ]
  },
  {
   "cell_type": "code",
   "execution_count": null,
   "id": "7818b46e-0a61-449a-8015-33fafd2cfa03",
   "metadata": {},
   "outputs": [],
   "source": []
  },
  {
   "cell_type": "code",
   "execution_count": null,
   "id": "0046da51-3342-4f3c-9a55-9ab6ebad5708",
   "metadata": {},
   "outputs": [],
   "source": []
  },
  {
   "cell_type": "code",
   "execution_count": null,
   "id": "345f39fe-b1bf-4b94-aee9-4fd2a4e7fd19",
   "metadata": {},
   "outputs": [],
   "source": []
  },
  {
   "cell_type": "code",
   "execution_count": null,
   "id": "7a5286ef-b306-45f5-bf41-a91d283c5acd",
   "metadata": {},
   "outputs": [],
   "source": []
  },
  {
   "cell_type": "code",
   "execution_count": null,
   "id": "b250f6ed-e9e5-43aa-b875-d8eb36c64b1a",
   "metadata": {},
   "outputs": [],
   "source": []
  },
  {
   "cell_type": "code",
   "execution_count": null,
   "id": "88446918-2e43-4569-8f37-658bc7040459",
   "metadata": {},
   "outputs": [],
   "source": []
  },
  {
   "cell_type": "code",
   "execution_count": null,
   "id": "3f7c8019-79b6-4915-9128-a2a3ab9ed3c7",
   "metadata": {},
   "outputs": [],
   "source": []
  },
  {
   "cell_type": "code",
   "execution_count": null,
   "id": "c6f29b86-f86b-486d-b1a2-f0ef1a0b134c",
   "metadata": {},
   "outputs": [],
   "source": []
  }
 ],
 "metadata": {
  "kernelspec": {
   "display_name": "Python 3 (ipykernel)",
   "language": "python",
   "name": "python3"
  },
  "language_info": {
   "codemirror_mode": {
    "name": "ipython",
    "version": 3
   },
   "file_extension": ".py",
   "mimetype": "text/x-python",
   "name": "python",
   "nbconvert_exporter": "python",
   "pygments_lexer": "ipython3",
   "version": "3.10.8"
  }
 },
 "nbformat": 4,
 "nbformat_minor": 5
}
