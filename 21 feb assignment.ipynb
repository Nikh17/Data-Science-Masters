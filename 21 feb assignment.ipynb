{
 "cells": [
  {
   "cell_type": "markdown",
   "id": "b649d2b3-09ff-4674-b555-31572dffc28b",
   "metadata": {},
   "source": [
    "Solution 1"
   ]
  },
  {
   "cell_type": "markdown",
   "id": "43dd0883-699c-4e59-86c0-679fa3b9ef00",
   "metadata": {},
   "source": [
    "Web Scraping is a process to extract data from a website. It is used for various purposes like data mining, data extraction, content creation, lead generation and many more."
   ]
  },
  {
   "cell_type": "markdown",
   "id": "1a103d73-8549-4a22-ac34-769d35419806",
   "metadata": {},
   "source": [
    "Solution 2"
   ]
  },
  {
   "cell_type": "markdown",
   "id": "3fb62506-a4f5-4547-9207-777ff49d7ef9",
   "metadata": {},
   "source": [
    "There are various methods to do Web Scrapping:\n",
    "1.Manual Scrapping\n",
    "2. API\n",
    "3.Web Scrapping Libraries and many more."
   ]
  },
  {
   "cell_type": "markdown",
   "id": "fa679334-a7f7-4395-83b1-2030486b08b0",
   "metadata": {},
   "source": [
    "Solution 3"
   ]
  },
  {
   "cell_type": "markdown",
   "id": "d69e16e2-1cfb-467a-a04d-6d4f6b16ae28",
   "metadata": {},
   "source": [
    "Beautiful Soup is a pythone module ehich is used for extracting data from a website. Beautiful Soup is commonly used for web scraping because it simplifies the process of parsing HTML and XML files, allowing developers to extract the data they need quickly and easily."
   ]
  },
  {
   "cell_type": "markdown",
   "id": "87d4109f-a205-41de-b8ef-38032bc54ad0",
   "metadata": {},
   "source": [
    "Solution 4"
   ]
  },
  {
   "cell_type": "markdown",
   "id": "4fb7fbaf-60d9-4818-aa96-7fc84c077dca",
   "metadata": {},
   "source": [
    "Flask is used to parse our collected data and display it as HTML in a new HTML file."
   ]
  },
  {
   "cell_type": "markdown",
   "id": "8a7dbfce-62e1-4fc8-837a-452603be027a",
   "metadata": {},
   "source": [
    "Solution 5"
   ]
  },
  {
   "cell_type": "markdown",
   "id": "843357b9-6a88-4253-9342-f23f30d3b80d",
   "metadata": {},
   "source": [
    "In today's project we used AWS CodePipeline and AWS Elastic Beanstalk\n",
    "\n",
    "Here is a very brief summary of the steps that we took during deployement of our web-scrapping web app:\n",
    "\n",
    "Created a GitHub repository to store our application's source code.\n",
    "Created Elastic Beanstalk Environment\n",
    "Created a CodePipeline pipeeline\n",
    "Connected our GitHub repository to CodePipeline\n",
    "Deployed our web app"
   ]
  },
  {
   "cell_type": "code",
   "execution_count": null,
   "id": "ad55546b-97cb-4015-b120-330dcfb76be0",
   "metadata": {},
   "outputs": [],
   "source": []
  }
 ],
 "metadata": {
  "kernelspec": {
   "display_name": "Python 3 (ipykernel)",
   "language": "python",
   "name": "python3"
  },
  "language_info": {
   "codemirror_mode": {
    "name": "ipython",
    "version": 3
   },
   "file_extension": ".py",
   "mimetype": "text/x-python",
   "name": "python",
   "nbconvert_exporter": "python",
   "pygments_lexer": "ipython3",
   "version": "3.10.8"
  }
 },
 "nbformat": 4,
 "nbformat_minor": 5
}
