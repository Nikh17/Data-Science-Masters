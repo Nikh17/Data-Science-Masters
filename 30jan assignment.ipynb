{
 "cells": [
  {
   "cell_type": "code",
   "execution_count": null,
   "id": "f0cfd9b4-8cb4-4326-99b3-3f5c383ad97c",
   "metadata": {},
   "outputs": [],
   "source": [
    "# question 1"
   ]
  },
  {
   "cell_type": "code",
   "execution_count": 3,
   "id": "2e868a54-b5ff-447a-a44d-096a22c5e710",
   "metadata": {},
   "outputs": [
    {
     "name": "stdin",
     "output_type": "stream",
     "text": [
      "Enter your percentage 67\n"
     ]
    },
    {
     "name": "stdout",
     "output_type": "stream",
     "text": [
      "You got C\n"
     ]
    }
   ],
   "source": [
    "percentage=int(input(\"Enter your percentage\"))\n",
    "if percentage>90:\n",
    "    print(\"You got A\")\n",
    "elif percentage>80 and percentage<=90:\n",
    "    print(\"You got B\")\n",
    "elif percentage>=60 and percentage<=80:\n",
    "    print(\"You got C\")\n",
    "else:\n",
    "    print(\"You got D\")\n",
    "    "
   ]
  },
  {
   "cell_type": "code",
   "execution_count": null,
   "id": "5611ef88-9247-48eb-a072-d851c6139a36",
   "metadata": {},
   "outputs": [],
   "source": [
    "#question 2"
   ]
  },
  {
   "cell_type": "code",
   "execution_count": 9,
   "id": "a1c9bfab-f75e-41fa-98a2-a3700f2e1edf",
   "metadata": {},
   "outputs": [
    {
     "name": "stdin",
     "output_type": "stream",
     "text": [
      "Enter price of bike:  100001\n"
     ]
    },
    {
     "name": "stdout",
     "output_type": "stream",
     "text": [
      "The road tax to be paid is 15%\n"
     ]
    }
   ],
   "source": [
    "cost_price=int(input(\"Enter price of bike: \"))\n",
    "if cost_price>100000:\n",
    "    print(\"The road tax to be paid is 15%\")\n",
    "elif cost_price>50000 and cost_price<=100000:\n",
    "    print(\"The road tax to be paid is 10%\")\n",
    "else:\n",
    "    print(\"The road tax to be paid is 5%\")"
   ]
  },
  {
   "cell_type": "code",
   "execution_count": 10,
   "id": "4a720267-82cb-46ca-9649-4c90cefec885",
   "metadata": {},
   "outputs": [],
   "source": [
    "#question 3"
   ]
  },
  {
   "cell_type": "code",
   "execution_count": 2,
   "id": "5b80fca3-9b84-4f20-a276-3635a48bdf3d",
   "metadata": {},
   "outputs": [
    {
     "name": "stdin",
     "output_type": "stream",
     "text": [
      "Enter any city name:  dbdhdas\n"
     ]
    },
    {
     "name": "stdout",
     "output_type": "stream",
     "text": [
      "Monumnets information of this is not available in our database\n"
     ]
    }
   ],
   "source": [
    "city=input(\"Enter any city name: \")\n",
    "if city==\"Delhi\":\n",
    "    print(\"Popular monument in Delhi is Red Fort\")\n",
    "elif city==\"Agra\":\n",
    "    print(\"Popular monument in Agra is Taj Mahal\")\n",
    "elif city==\"Jaipur\":\n",
    "    print(\"Popular monument in Jaipur is Jai Mahal\")\n",
    "else:\n",
    "    print(\"Monumnets information of this is not available in our database\")\n",
    "    \n",
    "   "
   ]
  },
  {
   "cell_type": "code",
   "execution_count": null,
   "id": "b1ff57b0-42a7-4537-8739-1dd41140d2b8",
   "metadata": {},
   "outputs": [],
   "source": [
    "#Question 4.\n",
    "\n"
   ]
  },
  {
   "cell_type": "code",
   "execution_count": 7,
   "id": "7368e476-ff15-46ea-832f-cbe3c8ffcc18",
   "metadata": {},
   "outputs": [
    {
     "name": "stdin",
     "output_type": "stream",
     "text": [
      "Enter your number 45\n"
     ]
    },
    {
     "name": "stdout",
     "output_type": "stream",
     "text": [
      "the number 45 is 2 times divided by 3\n"
     ]
    }
   ],
   "source": [
    "def num_divisibleby3(num):\n",
    "    count = 0\n",
    "    while  num>10:\n",
    "        num = num/3\n",
    "        count += 1\n",
    "    return count\n",
    "    \n",
    "num = int(input(\"Enter your number\"))\n",
    "result = num_divisibleby3(num)\n",
    "print(f\"the number {num} is {result} times divided by 3\")\n",
    "          \n",
    "    \n",
    "        \n",
    "        \n",
    "    \n",
    "    "
   ]
  },
  {
   "cell_type": "code",
   "execution_count": 8,
   "id": "964e3f9f-5e70-4ab2-8e11-1ba1e8ae5f59",
   "metadata": {},
   "outputs": [],
   "source": [
    "#Question 5"
   ]
  },
  {
   "cell_type": "code",
   "execution_count": null,
   "id": "b7aa03c4-e2e1-49c6-8cd6-2a6d810034d0",
   "metadata": {},
   "outputs": [],
   "source": []
  },
  {
   "cell_type": "code",
   "execution_count": null,
   "id": "c0db103c-2bd8-4e59-b117-228c8bab8306",
   "metadata": {},
   "outputs": [],
   "source": [
    "#question 6 "
   ]
  },
  {
   "cell_type": "code",
   "execution_count": 13,
   "id": "17ebd5ec-08b1-488b-89f2-b89da0aa2577",
   "metadata": {},
   "outputs": [
    {
     "name": "stdout",
     "output_type": "stream",
     "text": [
      "*\n",
      "**\n",
      "***\n",
      "****\n",
      "*****\n"
     ]
    }
   ],
   "source": [
    "i = 1\n",
    "while  i <=5:\n",
    "    j=1\n",
    "    while j<=i:\n",
    "        print(\"*\",end='')\n",
    "        j +=1\n",
    "    print()\n",
    "    i +=1"
   ]
  },
  {
   "cell_type": "code",
   "execution_count": 14,
   "id": "60ffe2fb-72ca-4a99-8e4b-e4b5524fa8dc",
   "metadata": {},
   "outputs": [
    {
     "name": "stdout",
     "output_type": "stream",
     "text": [
      "          * \n",
      "        * * * \n",
      "      * * * * * \n",
      "    * * * * * * * \n",
      "  * * * * * * * * * \n"
     ]
    }
   ],
   "source": [
    "n=5\n",
    "for i in range(n):\n",
    "    for j in range(i,n):\n",
    "        print(\" \",end=' ')\n",
    "    for j in range(i+1):\n",
    "        print(\"*\",end=' ')\n",
    "    for j in range(i):\n",
    "        print(\"*\",end=' ')\n",
    "    print()"
   ]
  },
  {
   "cell_type": "code",
   "execution_count": 16,
   "id": "e347d11f-064a-4257-944e-7729b2d7725b",
   "metadata": {},
   "outputs": [
    {
     "name": "stdout",
     "output_type": "stream",
     "text": [
      "  * * * * * \n",
      "    * * * * \n",
      "      * * * \n",
      "        * * \n",
      "          * \n"
     ]
    }
   ],
   "source": [
    "n = 5\n",
    "for i in range(n):\n",
    "    for j in range(i+1):\n",
    "        print(\" \",end=' ')\n",
    "    for j in range(i,n):\n",
    "        print(\"*\",end=' ')\n",
    "    print()"
   ]
  },
  {
   "cell_type": "code",
   "execution_count": null,
   "id": "daceaf6f-a2f4-44b3-9db7-d2fc508fee9d",
   "metadata": {},
   "outputs": [],
   "source": [
    "#Question 7"
   ]
  },
  {
   "cell_type": "code",
   "execution_count": 9,
   "id": "b9dc11c3-9722-47c9-a1a4-e1d804835fbd",
   "metadata": {},
   "outputs": [
    {
     "name": "stdout",
     "output_type": "stream",
     "text": [
      "10\n",
      "9\n",
      "8\n",
      "7\n",
      "6\n",
      "5\n",
      "4\n",
      "3\n",
      "2\n",
      "1\n"
     ]
    }
   ],
   "source": [
    "num = 10\n",
    "while num >= 1:\n",
    "    print(num)\n",
    "    num -= 1\n"
   ]
  },
  {
   "cell_type": "code",
   "execution_count": null,
   "id": "359de968-617b-42b1-b8f2-c20f41f63d9e",
   "metadata": {},
   "outputs": [],
   "source": []
  }
 ],
 "metadata": {
  "kernelspec": {
   "display_name": "Python 3 (ipykernel)",
   "language": "python",
   "name": "python3"
  },
  "language_info": {
   "codemirror_mode": {
    "name": "ipython",
    "version": 3
   },
   "file_extension": ".py",
   "mimetype": "text/x-python",
   "name": "python",
   "nbconvert_exporter": "python",
   "pygments_lexer": "ipython3",
   "version": "3.10.8"
  }
 },
 "nbformat": 4,
 "nbformat_minor": 5
}
