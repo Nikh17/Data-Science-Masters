{
 "cells": [
  {
   "cell_type": "markdown",
   "id": "a443d180-daa8-492c-bea9-dbd29e6be1e5",
   "metadata": {},
   "source": [
    "Q1, Create a vehicle class with an init method having instance variables as name_of_vehicle, max_speed\n",
    "and average_of_vehicle."
   ]
  },
  {
   "cell_type": "code",
   "execution_count": 2,
   "id": "02e26830-8ef3-45eb-81af-7409cb8e5a66",
   "metadata": {},
   "outputs": [],
   "source": [
    "class vehicle:\n",
    "    def __init__(self, name,speed,avg):\n",
    "        self.name_of_vehicle = name\n",
    "        self.max_speed = speed\n",
    "        self.average_of_vehicle = avg"
   ]
  },
  {
   "cell_type": "markdown",
   "id": "a1ba9260-5dbe-4ec0-8023-7534ec4aa66f",
   "metadata": {},
   "source": [
    "Q2. Create a child class car from the vehicle class created in Que 1, which will inherit the vehicle class.\n",
    "Create a method named seating_capacity which takes capacity as an argument and returns the name of\n",
    "the vehicle and its seating capacity."
   ]
  },
  {
   "cell_type": "code",
   "execution_count": 4,
   "id": "e7bd092e-791b-4cf9-8d69-2d028f5e4e98",
   "metadata": {},
   "outputs": [],
   "source": [
    "class car(vehicle):\n",
    "    def seating_capacity(self, capacity):\n",
    "        self.seating_capacity = capacity\n",
    "        \n",
    "        return (self.name_of_vehicle, self.seating_capacity)"
   ]
  },
  {
   "cell_type": "code",
   "execution_count": 21,
   "id": "0288ed1e-f6e7-4b08-9ad9-0c2995c34978",
   "metadata": {},
   "outputs": [
    {
     "name": "stdout",
     "output_type": "stream",
     "text": [
      "('range rover', 7)\n"
     ]
    }
   ],
   "source": [
    "car1= car(\"range rover\",\"200km/hr\",12)\n",
    "print(car1.seating_capacity(7))\n"
   ]
  },
  {
   "cell_type": "markdown",
   "id": "77c93f30-40a4-46d4-8582-844056b35b87",
   "metadata": {},
   "source": [
    "Q3. What is multiple inheritance? Write a python code to demonstrate multiple inheritance."
   ]
  },
  {
   "cell_type": "markdown",
   "id": "831f6a52-fb49-40d1-8ce4-95f52c522f28",
   "metadata": {},
   "source": [
    "Multiple inheritance occurs when the child class inherits fom more than one parent class."
   ]
  },
  {
   "cell_type": "code",
   "execution_count": 51,
   "id": "40f58040-de8d-4728-94c9-e7cb4b7e3123",
   "metadata": {},
   "outputs": [],
   "source": [
    "class office:\n",
    "    def work(self):\n",
    "        return \"have lot of work to do\"\n",
    "    \n",
    "class family:\n",
    "    def time(self):\n",
    "        return \"have to give time to family\"\n",
    "class employee(office,family):\n",
    "    pass"
   ]
  },
  {
   "cell_type": "code",
   "execution_count": 52,
   "id": "6950006d-06a8-4e8a-b9bc-a2c7e7ad95e4",
   "metadata": {},
   "outputs": [],
   "source": [
    "nikhil = employee()"
   ]
  },
  {
   "cell_type": "code",
   "execution_count": 53,
   "id": "6b46a1a6-ba55-4c52-a31c-95ba7828cdef",
   "metadata": {},
   "outputs": [
    {
     "data": {
      "text/plain": [
       "'have lot of work to do'"
      ]
     },
     "execution_count": 53,
     "metadata": {},
     "output_type": "execute_result"
    }
   ],
   "source": [
    "nikhil.work()"
   ]
  },
  {
   "cell_type": "code",
   "execution_count": 54,
   "id": "9a772a21-075f-4025-85bc-74a2c998bba5",
   "metadata": {},
   "outputs": [
    {
     "data": {
      "text/plain": [
       "'have to give time to family'"
      ]
     },
     "execution_count": 54,
     "metadata": {},
     "output_type": "execute_result"
    }
   ],
   "source": [
    "nikhil.time()"
   ]
  },
  {
   "cell_type": "markdown",
   "id": "e05ffd99-0480-48bd-a124-22075d524bf1",
   "metadata": {},
   "source": [
    "Q4. What are getter and setter in python? Create a class and create a getter and a setter method in this\n",
    "class."
   ]
  },
  {
   "cell_type": "markdown",
   "id": "cb2f8811-1bfb-4cdf-868b-76578e1f7b35",
   "metadata": {},
   "source": [
    "Getter and setter are methods used tomake changes to the private attributes of the class, when a certain conditions are met."
   ]
  },
  {
   "cell_type": "code",
   "execution_count": 99,
   "id": "ecb45307-047e-43f0-9c4e-8a2d0e2fd79d",
   "metadata": {},
   "outputs": [],
   "source": [
    "class create_pin:\n",
    "    def __init__(self,pin):\n",
    "        self.__pin=int(pin)\n",
    "        \n",
    "        \n",
    "    def get_pin(self):            # getter method\n",
    "        return self.__pin\n",
    "    \n",
    "    def change_pin(self,new_pin):   # setter method\n",
    "        if type(new_pin)==int:\n",
    "            self.__pin=new_pin\n",
    "        else:\n",
    "            return \"you cannot change pin\"\n",
    "            "
   ]
  },
  {
   "cell_type": "code",
   "execution_count": 102,
   "id": "7a787f30-739e-4b3f-845c-e0472f59cbc4",
   "metadata": {},
   "outputs": [],
   "source": [
    "atm=create_pin(967774)"
   ]
  },
  {
   "cell_type": "code",
   "execution_count": 103,
   "id": "81fccefa-78a9-4984-bcf2-038185a5a7aa",
   "metadata": {},
   "outputs": [
    {
     "data": {
      "text/plain": [
       "967774"
      ]
     },
     "execution_count": 103,
     "metadata": {},
     "output_type": "execute_result"
    }
   ],
   "source": [
    "atm.get_pin()"
   ]
  },
  {
   "cell_type": "code",
   "execution_count": 105,
   "id": "839776d0-6625-43ed-95a9-44b4f9f024f1",
   "metadata": {},
   "outputs": [],
   "source": [
    "\n",
    "atm.change_pin(1011)"
   ]
  },
  {
   "cell_type": "code",
   "execution_count": 106,
   "id": "162df0ac-10f6-4cbc-b611-0d2f6f44bd80",
   "metadata": {},
   "outputs": [
    {
     "data": {
      "text/plain": [
       "1011"
      ]
     },
     "execution_count": 106,
     "metadata": {},
     "output_type": "execute_result"
    }
   ],
   "source": [
    "atm.get_pin()"
   ]
  },
  {
   "cell_type": "markdown",
   "id": "dd61be79-2181-45d3-b2f4-ff18d76082ba",
   "metadata": {},
   "source": [
    "Q5.What is method overriding in python? Write a python code to demonstrate method overriding."
   ]
  },
  {
   "cell_type": "code",
   "execution_count": null,
   "id": "9300a672-80e7-4073-bd12-6b12a3b1dfff",
   "metadata": {},
   "outputs": [],
   "source": []
  }
 ],
 "metadata": {
  "kernelspec": {
   "display_name": "Python 3 (ipykernel)",
   "language": "python",
   "name": "python3"
  },
  "language_info": {
   "codemirror_mode": {
    "name": "ipython",
    "version": 3
   },
   "file_extension": ".py",
   "mimetype": "text/x-python",
   "name": "python",
   "nbconvert_exporter": "python",
   "pygments_lexer": "ipython3",
   "version": "3.10.8"
  }
 },
 "nbformat": 4,
 "nbformat_minor": 5
}
