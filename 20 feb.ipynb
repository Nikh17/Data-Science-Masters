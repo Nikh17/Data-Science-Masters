{
 "cells": [
  {
   "cell_type": "markdown",
   "id": "800b3dd7-8440-4944-b704-b2168f8c6444",
   "metadata": {},
   "source": [
    "Q1. Explain GET and POST methods."
   ]
  },
  {
   "cell_type": "markdown",
   "id": "3d0bd53e-3c4e-41f2-939d-c8f003ee1d7f",
   "metadata": {},
   "source": [
    "These are the two common HTTP methods used in web development.\n",
    "\n",
    "1.GET Method:  When a GET request is made, the data sent in the request is visible in the URL and can be seen in the browser's address bar. Because the data is visible, GET requests are not secure and should not be used for sending sensitive information, such as passwords or credit card numbers.\n",
    "    \n",
    "2. POST Method: POST method is used to send data to a server to create or update a resource. When a client sends a POST request to a server, it sends data in the body of the request. This data is not visible in the URL, making POST requests a more secure way to transmit data.\n"
   ]
  },
  {
   "cell_type": "markdown",
   "id": "c1483e41-467f-4d3e-b087-2bd616f97184",
   "metadata": {},
   "source": [
    "Q2. Why is request used in Flask?"
   ]
  },
  {
   "cell_type": "markdown",
   "id": "e39d2fd6-2868-4029-9bd2-7834a34f7a37",
   "metadata": {},
   "source": [
    "In Flask, the request object is used to access incoming data from a client"
   ]
  },
  {
   "cell_type": "markdown",
   "id": "63709446-1af6-4202-913a-53833cfcead7",
   "metadata": {},
   "source": [
    "Q3. Why is redirect() used in Flask?"
   ]
  },
  {
   "cell_type": "markdown",
   "id": "2ab8b50c-e9e9-4417-bddb-e9470d141dfb",
   "metadata": {},
   "source": [
    "In Flask, the redirect() function is used to redirect the client to a different URL."
   ]
  },
  {
   "cell_type": "markdown",
   "id": "0d9d17df-0143-469b-be28-c6580a7b1e72",
   "metadata": {},
   "source": [
    "Q4. What are templates in Flask? Why is the render_template() function used?"
   ]
  },
  {
   "cell_type": "markdown",
   "id": "c04762e9-fad4-42d4-99d1-ea66c9507524",
   "metadata": {},
   "source": [
    "In Flask, a template is a file that contains a static HTML structure with placeholders for dynamic data to be inserted at runtime. \n",
    "\n",
    "The render_template() function is used to render the contents of a template."
   ]
  },
  {
   "cell_type": "markdown",
   "id": "e5a646ec-3815-4415-b426-1213345ccb08",
   "metadata": {},
   "source": [
    "Q5. Create a simple API. Use Postman to test it. Attach the screenshot of the output in the Jupyter Notebook."
   ]
  },
  {
   "cell_type": "code",
   "execution_count": null,
   "id": "8d64a5ab-403a-46d5-bca6-ceda04248c21",
   "metadata": {},
   "outputs": [],
   "source": [
    "from flask import Flask\n",
    "app = Flask(__name__)\n",
    "\n",
    "@app.route('/hello')\n",
    "def index():\n",
    "    return \"Hello Nikhil, You are doing good. Just kep going and keep practicing\"\n",
    "\n",
    "if  __name__==\"__main__\":\n",
    "    app.run(host=\"0.0.0.0\")\n",
    "    "
   ]
  }
 ],
 "metadata": {
  "kernelspec": {
   "display_name": "Python 3 (ipykernel)",
   "language": "python",
   "name": "python3"
  },
  "language_info": {
   "codemirror_mode": {
    "name": "ipython",
    "version": 3
   },
   "file_extension": ".py",
   "mimetype": "text/x-python",
   "name": "python",
   "nbconvert_exporter": "python",
   "pygments_lexer": "ipython3",
   "version": "3.10.8"
  }
 },
 "nbformat": 4,
 "nbformat_minor": 5
}
