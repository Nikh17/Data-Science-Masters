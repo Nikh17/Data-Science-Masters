{
 "cells": [
  {
   "cell_type": "markdown",
   "id": "1f44bebc-b6f9-430a-8efe-b381dfc11a63",
   "metadata": {},
   "source": [
    "Q.1 What is multithreading in python? Why is it used? Name the module used to handle threads in python"
   ]
  },
  {
   "cell_type": "markdown",
   "id": "365a1baf-4ec4-4c21-a8e0-408b067c7121",
   "metadata": {},
   "source": [
    "It is a technique used to improve the performance of programs by executing multiple threads simultaneously. By dividing the work into smaller units and running them in parallel, a program can perform better and more efficiently. 'threading' module is used to handle threads in Python."
   ]
  },
  {
   "cell_type": "markdown",
   "id": "dc5aa3e4-6146-4c15-b039-4629e9eee530",
   "metadata": {},
   "source": [
    "Q.2 Why threading module used? Write the use of the following functions:"
   ]
  },
  {
   "cell_type": "markdown",
   "id": "d6ff4a8f-35eb-4685-81ca-b3c0e35c3ac8",
   "metadata": {},
   "source": [
    "Threading module is used to implement multithreading,  which allows a program to perform multiple tasks concurrently."
   ]
  },
  {
   "cell_type": "markdown",
   "id": "6842177d-0497-4772-a7ae-ec493600b442",
   "metadata": {},
   "source": [
    "1. activeCount() - This method returns the number of currently active threads in the program, including the main thread.\n",
    "2. currentThread() - This method returns a reference to the currently executing thread. \n",
    "3. enumerate() - This method returns a list of all currently active threads, including the main thread."
   ]
  },
  {
   "cell_type": "markdown",
   "id": "1ac9cb77-ef36-42b0-90e2-309ce17572a3",
   "metadata": {},
   "source": [
    "Q.3 Explain the following functions:"
   ]
  },
  {
   "cell_type": "markdown",
   "id": "8d536bfc-91f1-4c65-92dd-daddca11f023",
   "metadata": {},
   "source": [
    "1.run() - It is a method that defines the behavior of the thread when it is started.\n",
    "\n",
    "2. start() - It  is a method that is used to start a new thread of execution.\n",
    "\n",
    "3. join() - It is a method that is used to wait for a thread to finish its execution before continuing with the rest of the program.\n",
    "\n",
    "4. isAlive() - It is a method that is used to check if a thread is currently running."
   ]
  },
  {
   "cell_type": "markdown",
   "id": "cb501be3-5ece-4121-ac9c-26ee515db834",
   "metadata": {},
   "source": [
    "Q.4 Write a python program to create two threads. Thread one must print the list of squares and thread\n",
    "two must print the list of cubes."
   ]
  },
  {
   "cell_type": "code",
   "execution_count": 3,
   "id": "a80b8a8a-b166-47e5-9c6f-ce1457960b30",
   "metadata": {},
   "outputs": [
    {
     "name": "stdout",
     "output_type": "stream",
     "text": [
      "calculate square numbers\n",
      "claculate cube of numbers\n",
      "square: 4\n",
      "square: 9\n",
      "square: 16\n",
      "square: 25\n",
      "square: 36\n",
      "square: 49\n",
      "cube: 8\n",
      "cube: 27\n",
      "cube: 64\n",
      "cube: 125\n",
      "cube: 216\n",
      "cube: 343\n",
      "Done in :  12.015114784240723\n",
      "Finally....Done with the work\n"
     ]
    }
   ],
   "source": [
    "import time\n",
    "import threading\n",
    "\n",
    "def calc_square(numbers):\n",
    "    print(\"calculate square numbers\")\n",
    "    for n in numbers:\n",
    "        time.sleep(0.2)\n",
    "        print('square:', n*n)\n",
    "        \n",
    "def calc_cube(numbers):\n",
    "    print(\"claculate cube of numbers\")\n",
    "    for n in numbers:\n",
    "        time.sleep(2)\n",
    "        print('cube:', n*n*n)\n",
    "        \n",
    "arr = [2,3,4,5,6,7]\n",
    "t = time.time()\n",
    "\n",
    "t1 = threading.Thread(target=calc_square, args=(arr,))\n",
    "t2 = threading.Thread(target=calc_cube, args=(arr,))\n",
    "\n",
    "t1.start()\n",
    "t2.start()\n",
    "\n",
    "t1.join()\n",
    "t2.join()\n",
    "\n",
    "print(\"Done in : \",time.time()-t)\n",
    "print(\"Finally....Done with the work\")\n"
   ]
  },
  {
   "cell_type": "markdown",
   "id": "55b17dee-1184-4af0-94bd-729a684b3a1b",
   "metadata": {},
   "source": [
    "Q.5 State advantages and disadvantages of multithreading"
   ]
  },
  {
   "cell_type": "markdown",
   "id": "8318e708-735c-49b3-aab4-4f797c68b2ca",
   "metadata": {},
   "source": [
    "ADVANTAGES\n",
    "1.Improved performance\n",
    "2.Increased responsiveness\n",
    "3.Efficient resource utilization"
   ]
  },
  {
   "cell_type": "markdown",
   "id": "c6a1937d-385e-43ad-ae64-b0a0e60f81ad",
   "metadata": {},
   "source": [
    "DISADVANTAGES\n",
    "1.Complexity\n",
    "2.Difficult to debug\n",
    "3.Limited scalability"
   ]
  },
  {
   "cell_type": "markdown",
   "id": "1b13df68-2d91-4ea0-9231-64683fbac321",
   "metadata": {},
   "source": [
    "Q.6 Explain deadlocks and race conditions."
   ]
  },
  {
   "cell_type": "markdown",
   "id": "0bcbafa3-f8f0-48bf-b5fe-c66007514e62",
   "metadata": {},
   "source": [
    "A deadlock occurs when two threads each lock a different variable at the same time and then try to lock the variable that the other thread already locked. As a result, each thread stops executing and waits for the other thread to release the variable. Because each thread is holding the variable that the other thread wants, nothing occurs, and the threads remain deadlocked.\n",
    "\n",
    "\n",
    "\n",
    "\n",
    "\n",
    "Race condition occurs when two threads access a shared variable at the same time.The first thread reads the variable, and the second thread reads the same value from the variable. Then the first thread and second thread perform their operations on the value, and they race to see which thread can write the value last to the shared variable. The value of the thread that writes its value last is preserved, because the thread is writing over the value that the previous thread wrote."
   ]
  }
 ],
 "metadata": {
  "kernelspec": {
   "display_name": "Python 3 (ipykernel)",
   "language": "python",
   "name": "python3"
  },
  "language_info": {
   "codemirror_mode": {
    "name": "ipython",
    "version": 3
   },
   "file_extension": ".py",
   "mimetype": "text/x-python",
   "name": "python",
   "nbconvert_exporter": "python",
   "pygments_lexer": "ipython3",
   "version": "3.10.8"
  }
 },
 "nbformat": 4,
 "nbformat_minor": 5
}
