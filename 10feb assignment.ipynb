{
 "cells": [
  {
   "cell_type": "markdown",
   "id": "6c00fc6d-1481-4712-8372-a870cba6c08e",
   "metadata": {},
   "source": [
    "Q1. Which function is used to open a file? What are the different modes of opening a file? Explain each mode\n",
    "of file opening."
   ]
  },
  {
   "cell_type": "markdown",
   "id": "2ad1bb71-b411-4f79-8afa-ab87c9a092ae",
   "metadata": {},
   "source": [
    "open() function is used to open the file. "
   ]
  },
  {
   "cell_type": "markdown",
   "id": "9a800d62-4d49-4e44-ada8-43242a94c6b2",
   "metadata": {},
   "source": [
    "There are several modes to open a file:\n",
    "    1. read(\"r\") : the file is opened for reading. If the file does not exist ,an error is raised\n",
    "    2. write(\"w\") : the file is opened for writing. if the files exist contents get replace otherwise a new file get created.\n",
    "    3. append(a\"\") : the file is opened for appending. if the file exists new data is writtend at the end of the file otherwise a new file gets created\n",
    "    4. binary(\"b\") : this is use to open a file in binary mode. This is used for non-text files, such as image or audio files.\n",
    "    5. text(\"t\") : this is used to open a file in the text mode.\n",
    "    6. creation(\"x\") : the file is open for exclusive creation. it creates a new file and if the file already exists,an error is raised.\n",
    "    7. update(\"+\") : This mode is used for updating (both reading and writing) a file.\n",
    "        \n",
    "        "
   ]
  },
  {
   "cell_type": "markdown",
   "id": "a329a06b-132f-4cc1-bc9a-1df538c298c5",
   "metadata": {},
   "source": [
    "\n",
    "Q2. Why close() function is used? Why is it important to close a file?"
   ]
  },
  {
   "cell_type": "markdown",
   "id": "c8448780-ea09-46c8-adc4-384babef652e",
   "metadata": {},
   "source": [
    "Close() function is used to close an opened file.It is important to close a file after it has been opened because it releases the resources (such as memory and CPU time) used by the file. When we open a file, the operating system assigns a certain amount of memory to buffer the file's contents, which helps with reading and writing data. If you don't close the file, this buffer may not be flushed to the file, and you may lose data or cause errors in the file."
   ]
  },
  {
   "cell_type": "markdown",
   "id": "070531b9-0d45-4a0d-b7d7-0246c3545fe3",
   "metadata": {},
   "source": [
    "Q3. Write a python program to create a text file. Write ‘I want to become a Data Scientist’ in that file. Then\n",
    "close the file. Open this file and read the content of the file."
   ]
  },
  {
   "cell_type": "code",
   "execution_count": null,
   "id": "52dfe83b-a558-4262-ae3b-b031e0a11bad",
   "metadata": {},
   "outputs": [],
   "source": [
    "f = open(\"testtttt.txt\", \"w\")"
   ]
  },
  {
   "cell_type": "code",
   "execution_count": null,
   "id": "26c7f21a-35e7-4545-840f-8270118aeff9",
   "metadata": {},
   "outputs": [
    {
     "data": {
      "text/plain": [
       "33"
      ]
     },
     "execution_count": 4,
     "metadata": {},
     "output_type": "execute_result"
    }
   ],
   "source": [
    "f.write(\"I want to become a Data Scientist\")"
   ]
  },
  {
   "cell_type": "code",
   "execution_count": null,
   "id": "c339a7ad-5e69-4029-8c36-b5fc57f6eae1",
   "metadata": {},
   "outputs": [],
   "source": [
    "f.close()"
   ]
  },
  {
   "cell_type": "code",
   "execution_count": null,
   "id": "90d62608-1a58-49d7-8389-07404fa6c7c6",
   "metadata": {},
   "outputs": [],
   "source": [
    "f = open(\"testtttt.txt\", \"r\")"
   ]
  },
  {
   "cell_type": "code",
   "execution_count": null,
   "id": "d9c9772b-0bf8-4136-a0c0-93b08114d65b",
   "metadata": {},
   "outputs": [
    {
     "data": {
      "text/plain": [
       "'I want to become a Data Scientist'"
      ]
     },
     "execution_count": 7,
     "metadata": {},
     "output_type": "execute_result"
    }
   ],
   "source": [
    "print(f.read())"
   ]
  },
  {
   "cell_type": "code",
   "execution_count": null,
   "id": "b810960b-fbe5-453b-9107-ea65cb7192fb",
   "metadata": {},
   "outputs": [],
   "source": [
    "f.close()"
   ]
  },
  {
   "cell_type": "markdown",
   "id": "906256c5-c778-48a5-846f-31dbb63158b6",
   "metadata": {},
   "source": [
    "Q4. Explain the following with python code: read(), readline() and readlines()."
   ]
  },
  {
   "cell_type": "markdown",
   "id": "e93fa29b-4d08-43f4-ad8e-5452aced1f89",
   "metadata": {},
   "source": [
    "read() : this is used to read a file\n",
    "\n",
    "readline() : this is used to read the first line of the file\n",
    "\n",
    "readlines() : this is used to read the content of file as a list of strings, where each string represent a line from file."
   ]
  },
  {
   "cell_type": "markdown",
   "id": "96b6e48b-99ad-4a8e-b354-b4ea6f235982",
   "metadata": {},
   "source": [
    "Q5. Explain why with statement is used with open(). What is the advantage of using with statement and\n",
    "open() together?"
   ]
  },
  {
   "cell_type": "markdown",
   "id": "58db8878-5916-48be-97cf-74c8f99a2c49",
   "metadata": {},
   "source": [
    "The advantage of using with statement and open() together is that after the completion of the operation the file is automatically closed, we dont have to call close() function. It automatically manage the life time of the file object."
   ]
  },
  {
   "cell_type": "markdown",
   "id": "1727fdc7-dbf0-48da-b640-7d09e6c03f31",
   "metadata": {},
   "source": [
    "Q6. Explain the write() and writelines() functions. Give a suitable example."
   ]
  },
  {
   "cell_type": "markdown",
   "id": "df9d3f84-31be-4bd3-93f1-76004481d888",
   "metadata": {},
   "source": [
    "write() : this is used to  write text in the file\n",
    "\n",
    "writeline() : this is used to write the text line by line."
   ]
  },
  {
   "cell_type": "code",
   "execution_count": 71,
   "id": "5f29aca2-687e-425a-bd2a-a2d8b6346d93",
   "metadata": {},
   "outputs": [],
   "source": [
    "with open(\"test.txt\",'w') as f:\n",
    "    f.write(\"I want to become a Data Scientist and make my parents proud\")"
   ]
  },
  {
   "cell_type": "code",
   "execution_count": 75,
   "id": "1e85400d-c5a2-4c92-b587-336762955f1a",
   "metadata": {},
   "outputs": [
    {
     "name": "stdout",
     "output_type": "stream",
     "text": [
      "I want ot become a Data Scientist and make my parents proud\n"
     ]
    }
   ],
   "source": [
    "with open(\"test.txt\",'r') as f:\n",
    "    print(f.read())"
   ]
  },
  {
   "cell_type": "code",
   "execution_count": null,
   "id": "c44aaf5c-cd85-46b0-9854-d2da6c074916",
   "metadata": {},
   "outputs": [],
   "source": [
    "with open(\"test1.txt\",'w') as f:\n",
    "    f."
   ]
  }
 ],
 "metadata": {
  "kernelspec": {
   "display_name": "Python 3 (ipykernel)",
   "language": "python",
   "name": "python3"
  },
  "language_info": {
   "codemirror_mode": {
    "name": "ipython",
    "version": 3
   },
   "file_extension": ".py",
   "mimetype": "text/x-python",
   "name": "python",
   "nbconvert_exporter": "python",
   "pygments_lexer": "ipython3",
   "version": "3.10.8"
  }
 },
 "nbformat": 4,
 "nbformat_minor": 5
}
