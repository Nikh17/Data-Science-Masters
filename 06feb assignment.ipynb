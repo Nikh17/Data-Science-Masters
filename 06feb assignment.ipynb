{
 "cells": [
  {
   "cell_type": "markdown",
   "id": "fe49b251-a4a4-487e-a00d-f8ea94f2ac36",
   "metadata": {},
   "source": [
    "Q1. Create a function which will take a list as an argument and return the product of all the numbers after creating a flat list.\n",
    "Use the below-given list as an argument for your function."
   ]
  },
  {
   "cell_type": "markdown",
   "id": "000c02ff-ed9e-4007-a376-03d8ac8acf95",
   "metadata": {},
   "source": [
    "list1 = [1,2,3,4, [44,55,66, True], False, (34,56,78,89,34), {1,2,3,3,2,1}, {1:34, \"key2\": [55, 67, 78, 89], 4: (45,\n",
    "22, 61, 34)}, [56, 'data science'], 'Machine Learning']"
   ]
  },
  {
   "cell_type": "markdown",
   "id": "c95771d9-f940-4d6e-b249-a8878b5c9947",
   "metadata": {},
   "source": [
    "Note: you must extract numeric keys and values of the dictionary also."
   ]
  },
  {
   "cell_type": "code",
   "execution_count": 1,
   "id": "80786d3d-8c85-4c85-9fe5-fe2ba9c73dea",
   "metadata": {},
   "outputs": [
    {
     "name": "stdout",
     "output_type": "stream",
     "text": [
      "689118639831180913138973540352000\n"
     ]
    }
   ],
   "source": [
    "def calc_product(lst):\n",
    "    flat_list = []\n",
    "    \n",
    "    def flatten(l):\n",
    "        for i in l:\n",
    "            if type(i) == int or type(i) == float:\n",
    "                flat_list.append(i)\n",
    "            elif type(i) == tuple or type(i) == list :\n",
    "                flatten(i)\n",
    "            elif type(i) == dict:\n",
    "                for key, value in i.items():\n",
    "                    if type(key) in [float,int]:\n",
    "                        flat_list.append(key)\n",
    "                    if type(value) in [float, int]:\n",
    "                        flat_list.append(value)\n",
    "                    elif type(value) in [list,tuple]:\n",
    "                        flatten(value)\n",
    "    flatten(lst)\n",
    "    product = 1 \n",
    "    for i in flat_list :\n",
    "        product *= i\n",
    "    return product\n",
    "list1 = [1,2,3,4, [44,55,66, True], False, (34,56,78,89,34), {1,2,3,3,2,1}, {1:34, \"key2\": [55, 67, 78, 89], 4: (45, 22, 61, 34)}, [56, 'data science'], 'Machine Learning']\n",
    "print(calc_product(list1))"
   ]
  },
  {
   "cell_type": "markdown",
   "id": "2b70845b-310c-4025-8874-766cf09a5982",
   "metadata": {},
   "source": [
    "Q2. Write a python program for encrypting a message sent to you by your friend. The logic of encryption should be such that,, for a the output should be z. For b, the output should be y. For c, the output should be x respectively. Also, the whitespace should be replaced with a dollar sign. Keep the punctuation marks unchanged.\n",
    "\n",
    "Input Sentence : I want to become a Data Scientist.\n",
    "\n",
    "Encrypt the above input sentence using the program you just created.\n",
    "\n",
    "Note : Convert the given input sentence into lower case before encrypting. The final output should be lowercase."
   ]
  },
  {
   "cell_type": "code",
   "execution_count": null,
   "id": "f28dfbe3-e6c0-400a-bb6a-1548d3804e7d",
   "metadata": {},
   "outputs": [],
   "source": [
    "def encryption(sentence):\n",
    "    filtered=sentence.lower()\n",
    "    rule={'a':'z','b':'y','c':'x','d':'w','e':'v','f':'u','g':'t','h':'s','i':'r','j':'q','k':'p','l':'o','m':'n','n':'m','o':'l','p':'k','q':'j','r':'i','s':'h','t':'g','u':'f','v':'e','w':'d','x':'c','y':'b','z':'a',' ':'$'}\n",
    "    msg=''\n",
    "    for i in filtered:\n",
    "        if i in rule:\n",
    "            msg=msg+rule[i]\n",
    "        else:\n",
    "            continue\n",
    "        \n",
    "    return msg"
   ]
  },
  {
   "cell_type": "code",
   "execution_count": null,
   "id": "54008b1f-dfd0-444e-a9cf-03714fe7c306",
   "metadata": {},
   "outputs": [],
   "source": [
    "sentence=\"I want to become a Data Scientist.\"\n",
    "encrypted_msg=encryption(sentence)\n",
    "encrypted_msg\n",
    "'r$dzmg$gl$yvxlnv$z$wzgz$hxrvmgrhg'"
   ]
  }
 ],
 "metadata": {
  "kernelspec": {
   "display_name": "Python 3 (ipykernel)",
   "language": "python",
   "name": "python3"
  },
  "language_info": {
   "codemirror_mode": {
    "name": "ipython",
    "version": 3
   },
   "file_extension": ".py",
   "mimetype": "text/x-python",
   "name": "python",
   "nbconvert_exporter": "python",
   "pygments_lexer": "ipython3",
   "version": "3.10.8"
  }
 },
 "nbformat": 4,
 "nbformat_minor": 5
}
