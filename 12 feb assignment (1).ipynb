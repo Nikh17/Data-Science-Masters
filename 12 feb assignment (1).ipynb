{
 "cells": [
  {
   "cell_type": "markdown",
   "id": "71039522-a04d-4c8d-87ef-264a0878d195",
   "metadata": {},
   "source": [
    "Q.1 What is an exception in python?Write the difference between Exceptions and Syntax errors."
   ]
  },
  {
   "cell_type": "markdown",
   "id": "5d4553d9-df3b-4aec-a6c1-e1824e155fed",
   "metadata": {},
   "source": [
    "Exception is an event that occurs during the execution of a program which is disrupted because of some error.Syntax error will not let the program to continue while exceptions will show you error and let you continue the next steps."
   ]
  },
  {
   "cell_type": "markdown",
   "id": "395b3884-bede-4978-831b-407beb44ba67",
   "metadata": {},
   "source": [
    "Q.2 What happens when an exception is not handled? Explain with an example."
   ]
  },
  {
   "cell_type": "markdown",
   "id": "39b7504c-b292-4299-b779-3eb239e5aa4f",
   "metadata": {},
   "source": [
    "If exception is not handled, then it shows an error message and leads to data loss "
   ]
  },
  {
   "cell_type": "code",
   "execution_count": 2,
   "id": "72781d79-9f28-4104-8a48-2ee7af21d324",
   "metadata": {},
   "outputs": [
    {
     "name": "stdin",
     "output_type": "stream",
     "text": [
      "Enter a number:  io\n"
     ]
    },
    {
     "name": "stdout",
     "output_type": "stream",
     "text": [
      "Invalid input!\n"
     ]
    }
   ],
   "source": [
    "try:\n",
    "    x = int(input(\"Enter a number: \"))\n",
    "    y = 5 / x\n",
    "    print(\"The result is\", y)\n",
    "except ValueError:\n",
    "    print(\"Invalid input!\")"
   ]
  },
  {
   "cell_type": "code",
   "execution_count": 3,
   "id": "e1a5140d-7e83-432e-ae61-195384b87d93",
   "metadata": {},
   "outputs": [
    {
     "name": "stdin",
     "output_type": "stream",
     "text": [
      "Enter a number:  io\n"
     ]
    },
    {
     "ename": "ValueError",
     "evalue": "invalid literal for int() with base 10: 'io'",
     "output_type": "error",
     "traceback": [
      "\u001b[0;31m---------------------------------------------------------------------------\u001b[0m",
      "\u001b[0;31mValueError\u001b[0m                                Traceback (most recent call last)",
      "Cell \u001b[0;32mIn[3], line 1\u001b[0m\n\u001b[0;32m----> 1\u001b[0m x \u001b[38;5;241m=\u001b[39m \u001b[38;5;28;43mint\u001b[39;49m\u001b[43m(\u001b[49m\u001b[38;5;28;43minput\u001b[39;49m\u001b[43m(\u001b[49m\u001b[38;5;124;43m\"\u001b[39;49m\u001b[38;5;124;43mEnter a number: \u001b[39;49m\u001b[38;5;124;43m\"\u001b[39;49m\u001b[43m)\u001b[49m\u001b[43m)\u001b[49m\n\u001b[1;32m      2\u001b[0m y \u001b[38;5;241m=\u001b[39m \u001b[38;5;241m5\u001b[39m \u001b[38;5;241m/\u001b[39m x\n\u001b[1;32m      3\u001b[0m \u001b[38;5;28mprint\u001b[39m(\u001b[38;5;124m\"\u001b[39m\u001b[38;5;124mThe result is\u001b[39m\u001b[38;5;124m\"\u001b[39m, y)\n",
      "\u001b[0;31mValueError\u001b[0m: invalid literal for int() with base 10: 'io'"
     ]
    }
   ],
   "source": [
    "x = int(input(\"Enter a number: \"))\n",
    "y = 5 / x\n",
    "print(\"The result is\", y)\n"
   ]
  },
  {
   "cell_type": "markdown",
   "id": "2c8b7e28-3284-4bc0-adcd-60813b4b6ca3",
   "metadata": {},
   "source": [
    "Q.3 Which python statements are used to catch and handle exceptions? Explain with an example."
   ]
  },
  {
   "cell_type": "markdown",
   "id": "daf26597-599a-450e-8973-c8618e8eebba",
   "metadata": {},
   "source": [
    "try-except is used to  catch and handle exceptions."
   ]
  },
  {
   "cell_type": "code",
   "execution_count": 15,
   "id": "c6be87d1-55e5-4988-86ca-cb2570f6a9b4",
   "metadata": {},
   "outputs": [],
   "source": [
    "import logging\n",
    "\n",
    "logging.basicConfig(filename=\"exception_handle.log\",level=logging.INFO)\n",
    "\n",
    "try:\n",
    "    a=5\n",
    "    print(a/0)\n",
    "except ZeroDivisionError as e:\n",
    "    logging.error(f\"The error have occured because of divsion by zero--->{e}\")"
   ]
  },
  {
   "cell_type": "markdown",
   "id": "76ff23f9-6915-4a75-a990-bce734daa2c5",
   "metadata": {},
   "source": [
    "ERROR:root:The error have occured because of divsion by zero--->division by zero\n"
   ]
  },
  {
   "cell_type": "markdown",
   "id": "497e0e0e-e7cf-4a02-84af-d5ffd9afdd6d",
   "metadata": {},
   "source": [
    "\n",
    "Q.4 Explain with an example::\n"
   ]
  },
  {
   "cell_type": "markdown",
   "id": "d3ac1c07-62a3-482a-b4dd-5cb88b343f32",
   "metadata": {},
   "source": [
    "1. try and else"
   ]
  },
  {
   "cell_type": "code",
   "execution_count": 19,
   "id": "34ec652d-f0fa-400d-95a8-f5aff011f5d2",
   "metadata": {},
   "outputs": [],
   "source": [
    "try:\n",
    "    import nikhil\n",
    "except Exception as e:\n",
    "    logging.error(\"nikhil is a boy not module----->{}\".format(e))"
   ]
  },
  {
   "cell_type": "markdown",
   "id": "ca93d3e6-0041-498d-a7e7-d0ae482ef481",
   "metadata": {},
   "source": [
    "ERROR:root:nikhil is a boy not module----->No module named 'nikhil'\n"
   ]
  },
  {
   "cell_type": "markdown",
   "id": "c09f4a3a-ec6c-4db6-9df0-a0c173d6f8bb",
   "metadata": {},
   "source": [
    "2. Finally"
   ]
  },
  {
   "cell_type": "code",
   "execution_count": 22,
   "id": "8b510b54-a001-4f31-838e-7c667e85261b",
   "metadata": {},
   "outputs": [
    {
     "name": "stdout",
     "output_type": "stream",
     "text": [
      "Don't do such stupid things\n"
     ]
    }
   ],
   "source": [
    "try:\n",
    "    import nikhil\n",
    "except Exception as e:\n",
    "    logging.error(\"error occured because you entered a studip module name--->{}\".format(e))\n",
    "finally:\n",
    "    print(\"Don't do such stupid things\")"
   ]
  },
  {
   "cell_type": "markdown",
   "id": "2ccad0ff-161c-4072-99df-571e74115c92",
   "metadata": {},
   "source": [
    "ERROR:root:error occured because you entered a studip module name--->No module named 'nikhil'"
   ]
  },
  {
   "cell_type": "markdown",
   "id": "829ac00a-7929-43d6-a11d-802811134d4f",
   "metadata": {},
   "source": [
    "3. Raise"
   ]
  },
  {
   "cell_type": "code",
   "execution_count": 24,
   "id": "5dc8d320-fc2e-411c-9bcb-9f08eff7cd93",
   "metadata": {},
   "outputs": [],
   "source": [
    "class custom_exception(Exception):\n",
    "    def __init__(self, msg):\n",
    "        self.msg=msg\n"
   ]
  },
  {
   "cell_type": "code",
   "execution_count": 25,
   "id": "808a48ce-860f-4059-8312-0feff95487d3",
   "metadata": {},
   "outputs": [],
   "source": [
    "def raise_error(s):\n",
    "    if type(s)!= int:\n",
    "        raise custom_exception(\"Not valid integer\")\n",
    "    else:\n",
    "        raise custom_exception(\"Valid integer\")"
   ]
  },
  {
   "cell_type": "code",
   "execution_count": 27,
   "id": "e468becd-2563-4d77-98cc-2beccbef968c",
   "metadata": {},
   "outputs": [
    {
     "name": "stdin",
     "output_type": "stream",
     "text": [
      "enter something dbdss\n"
     ]
    }
   ],
   "source": [
    "try:\n",
    "    n = input(\"enter something\")\n",
    "    raise_error(n)\n",
    "    print(n)\n",
    "except custom_exception as e:\n",
    "    logging.error(f\"Text should be an integer---->{e}\")"
   ]
  },
  {
   "cell_type": "markdown",
   "id": "8d2f155b-1f71-4441-aa65-33cd68d0a583",
   "metadata": {},
   "source": [
    "ERROR:root:Text should be an integer---->Not valid integer"
   ]
  },
  {
   "cell_type": "raw",
   "id": "3b240dde-cd4c-4c53-be9a-38f7cd37647f",
   "metadata": {},
   "source": [
    "Q.5 (SOLUTION)"
   ]
  },
  {
   "cell_type": "markdown",
   "id": "400d285f-8b29-4343-8f97-141cb502d36e",
   "metadata": {},
   "source": [
    "Custom Exception are user defined exceptions which are required as per the program where built-in exceptions failed to fulfil the user requirement.\n",
    "For example i asked to enter a 4 digit pin number and you eneterd a negative number but python will  not be able to distinguish between the two.\n"
   ]
  },
  {
   "cell_type": "markdown",
   "id": "842eeade-955b-4e80-acff-9e52c8c9a3ea",
   "metadata": {},
   "source": [
    "Q.6 (SOLUTION)"
   ]
  },
  {
   "cell_type": "code",
   "execution_count": 31,
   "id": "72fae155-1fd6-411f-8619-f8f39b7c036e",
   "metadata": {},
   "outputs": [],
   "source": [
    "class custom_exception(Exception):\n",
    "    def __init__(self,msg):\n",
    "        self.msg = msg\n",
    "    "
   ]
  },
  {
   "cell_type": "code",
   "execution_count": 37,
   "id": "c9ecad71-6d0b-416e-a517-87a370a0f857",
   "metadata": {},
   "outputs": [],
   "source": [
    "def parse(m):\n",
    "    if m[0].lower()!='m' or m[0].lower!='f' or m[0].lower!='O':\n",
    "        raise custom_exception(\"Invalid Gender\")"
   ]
  },
  {
   "cell_type": "code",
   "execution_count": 39,
   "id": "48f34185-6e24-4244-bc3b-d35a8b515148",
   "metadata": {},
   "outputs": [
    {
     "name": "stdin",
     "output_type": "stream",
     "text": [
      " Enter gender:  dasdds\n"
     ]
    }
   ],
   "source": [
    "try:\n",
    "    gender=input(''' Enter gender: ''')\n",
    "    parse(gender)\n",
    "except custom_exception as e:\n",
    "    logging.error(f'Your gender can be either Male,Female or Other---->{e}')\n"
   ]
  },
  {
   "cell_type": "code",
   "execution_count": null,
   "id": "a0696409-80c9-44f7-96c5-d2df153b6ad2",
   "metadata": {},
   "outputs": [],
   "source": [
    "ERROR:root:Your gender can be either Male,Female or Other---->Invalid Gender"
   ]
  }
 ],
 "metadata": {
  "kernelspec": {
   "display_name": "Python 3 (ipykernel)",
   "language": "python",
   "name": "python3"
  },
  "language_info": {
   "codemirror_mode": {
    "name": "ipython",
    "version": 3
   },
   "file_extension": ".py",
   "mimetype": "text/x-python",
   "name": "python",
   "nbconvert_exporter": "python",
   "pygments_lexer": "ipython3",
   "version": "3.10.8"
  }
 },
 "nbformat": 4,
 "nbformat_minor": 5
}
