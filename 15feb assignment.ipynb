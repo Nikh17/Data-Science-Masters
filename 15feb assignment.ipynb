{
 "cells": [
  {
   "cell_type": "markdown",
   "id": "7f574348-e9c1-4b63-9395-83b9632a8e88",
   "metadata": {},
   "source": [
    "Q1. What is multiprocessing in python? Why is it useful?"
   ]
  },
  {
   "cell_type": "markdown",
   "id": "82977534-a393-43ed-9354-a7daaf0bbeef",
   "metadata": {},
   "source": [
    "Multiprocessing is a module in Python that enables the execution of multiple processes in parallel, allowing a program to take advantage of multiple CPU cores in a computer to complete tasks faster.Multiprocessing is particularly useful for computationally intensive tasks such as data processing, scientific computing, and machine learning, where the processing time can be significantly reduced by dividing the work among multiple CPUs. "
   ]
  },
  {
   "cell_type": "markdown",
   "id": "447dd44b-65d6-481d-9996-d9d2848eff92",
   "metadata": {},
   "source": [
    "Q2. What are the differences between multiprocessing and multithreading?"
   ]
  },
  {
   "cell_type": "markdown",
   "id": "48527c9e-d46e-49e8-aa43-3003d8b8bbee",
   "metadata": {},
   "source": [
    "In Multiprocessing, CPUs are added for increasing computing power.\tWhile In Multithreading, many threads are created of a single process for increasing computing power.\n",
    "\n",
    "\n",
    "\n",
    "In Multiprocessing, Many processes are executed simultaneously.\tWhile in multithreading, many threads of a process are executed simultaneously.\n",
    "\n",
    "\n",
    "\n",
    "\n",
    "In Multiprocessing, every process owned a separate address space.\tWhile in Multithreading, a common address space is shared by all the threads."
   ]
  },
  {
   "cell_type": "markdown",
   "id": "85a8b653-9b3e-4458-ac2f-e2ca6b43bc1c",
   "metadata": {},
   "source": [
    "Q3. Write a python code to create a process using the multiprocessing module."
   ]
  },
  {
   "cell_type": "code",
   "execution_count": 1,
   "id": "875c795b-226f-48f9-8df0-36f7b618d314",
   "metadata": {},
   "outputs": [
    {
     "name": "stdout",
     "output_type": "stream",
     "text": [
      "Worker process started\n",
      "Worker process finished\n",
      "Main process finished\n"
     ]
    }
   ],
   "source": [
    "import multiprocessing\n",
    "\n",
    "def worker():\n",
    "    \"\"\"Function to be executed in the child process\"\"\"\n",
    "    print(\"Worker process started\")\n",
    "    # do some work...\n",
    "    print(\"Worker process finished\")\n",
    "\n",
    "if __name__ == '__main__':\n",
    "    # create a new process\n",
    "    p = multiprocessing.Process(target=worker)\n",
    "    # start the process\n",
    "    p.start()\n",
    "    # wait for the process to finish\n",
    "    p.join()\n",
    "    print(\"Main process finished\")\n"
   ]
  },
  {
   "cell_type": "markdown",
   "id": "63438a7e-b48c-4b71-99bb-d1ec075ccae1",
   "metadata": {},
   "source": [
    "Q4. What is a multiprocessing pool in python? Why is it used?"
   ]
  },
  {
   "cell_type": "markdown",
   "id": "efa8630d-1138-4c4c-8c86-49728a03e686",
   "metadata": {},
   "source": [
    "A multiprocessing pool in Python is a mechanism for managing a group of worker processes that can be used to execute a large number of tasks in parallel. It is provided by the multiprocessing.Pool class and allows the user to distribute tasks to a fixed number of worker processes, which can execute them in parallel.\n",
    "A multiprocessing pool is particularly useful when we have a large number of tasks that can be executed independently and in parallel, such as in scientific computing, data processing, and machine learning. By dividing the tasks among multiple processes, we can take advantage of multiple CPU cores and speed up the overall execution time."
   ]
  },
  {
   "cell_type": "markdown",
   "id": "75f522bb-1d64-48ad-992a-2e8fb93b2005",
   "metadata": {},
   "source": [
    "Q5. How can we create a pool of worker processes in python using the multiprocessing module?"
   ]
  },
  {
   "cell_type": "markdown",
   "id": "f5d55129-57da-4190-a9e1-3304e3f23828",
   "metadata": {},
   "source": [
    "We can create a pool of worker processes in Python using the 'multiprocessing.Pool' class provided by the multiprocessing module"
   ]
  },
  {
   "cell_type": "markdown",
   "id": "411cc73c-917c-4548-a87a-c2de0b8d6dbc",
   "metadata": {},
   "source": [
    "Q6. Write a python program to create 4 processes, each process should print a different number using the\n",
    "multiprocessing module in python."
   ]
  },
  {
   "cell_type": "code",
   "execution_count": 2,
   "id": "103503b3-fb92-409f-b6c6-edfc853be953",
   "metadata": {},
   "outputs": [
    {
     "name": "stdout",
     "output_type": "stream",
     "text": [
      "Worker process started\n",
      "Worker process finished\n",
      "Main process finished\n"
     ]
    }
   ],
   "source": [
    "import multiprocessing\n",
    "\n",
    "def worker():\n",
    "    \"\"\"Function to be executed in the child process\"\"\"\n",
    "    print(\"Worker process started\")\n",
    "    # do some work...\n",
    "    print(\"Worker process finished\")\n",
    "\n",
    "if __name__ == '__main__':\n",
    "    # create a new process\n",
    "    p = multiprocessing.Process(target=worker)\n",
    "    # start the process\n",
    "    p.start()\n",
    "    # wait for the process to finish\n",
    "    p.join()\n",
    "    print(\"Main process finished\")"
   ]
  },
  {
   "cell_type": "code",
   "execution_count": 13,
   "id": "39d633e3-8c0c-4aed-bc95-6283ab2e808f",
   "metadata": {},
   "outputs": [
    {
     "name": "stdout",
     "output_type": "stream",
     "text": [
      "Process-36 Number 1\n",
      "Process-37 Number 2\n",
      "Process-38 Number 3\n",
      "Process-39 Number 4\n"
     ]
    }
   ],
   "source": [
    "import multiprocessing\n",
    "\n",
    "def print_num(num):\n",
    "    print(f\"{multiprocessing.current_process().name} Number {num}\")\n",
    "\n",
    "if __name__ == \"__main__\":\n",
    "    processes = []\n",
    "    for i in range(1,5):\n",
    "        p1 = multiprocessing.Process(target= print_num, args =(i,))\n",
    "        p1.start()\n",
    "        processes.append(p1)\n",
    "    for process in processes: \n",
    "        p1.join()\n",
    "    "
   ]
  },
  {
   "cell_type": "code",
   "execution_count": null,
   "id": "5c5611ca-488c-40bc-b466-9b6a2476a8bb",
   "metadata": {},
   "outputs": [],
   "source": []
  },
  {
   "cell_type": "code",
   "execution_count": null,
   "id": "3000c08e-fde5-43d5-8d73-fed07819fd9c",
   "metadata": {},
   "outputs": [],
   "source": []
  }
 ],
 "metadata": {
  "kernelspec": {
   "display_name": "Python 3 (ipykernel)",
   "language": "python",
   "name": "python3"
  },
  "language_info": {
   "codemirror_mode": {
    "name": "ipython",
    "version": 3
   },
   "file_extension": ".py",
   "mimetype": "text/x-python",
   "name": "python",
   "nbconvert_exporter": "python",
   "pygments_lexer": "ipython3",
   "version": "3.10.8"
  }
 },
 "nbformat": 4,
 "nbformat_minor": 5
}
