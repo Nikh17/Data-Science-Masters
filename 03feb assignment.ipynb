{
 "cells": [
  {
   "cell_type": "markdown",
   "id": "e1235691-674a-43a0-a154-82282db98afa",
   "metadata": {},
   "source": [
    "##Q1. Which keyword is used to create a function? Create a function to return a list of odd numbers in the\n",
    "range of 1 to 25."
   ]
  },
  {
   "cell_type": "markdown",
   "id": "936b4656-44de-491c-996d-fa1af4b4ca3d",
   "metadata": {},
   "source": [
    "Ans- def is used to create a function."
   ]
  },
  {
   "cell_type": "code",
   "execution_count": 1,
   "id": "4cfb0fe1-040d-4fbc-a147-796895417e7d",
   "metadata": {},
   "outputs": [],
   "source": [
    "m = range(1,26)"
   ]
  },
  {
   "cell_type": "code",
   "execution_count": 2,
   "id": "02c0966e-b482-41f5-8818-1abb6d6779b1",
   "metadata": {},
   "outputs": [],
   "source": [
    "def odd_number(n):\n",
    "    t=[]\n",
    "    for i in n:\n",
    "        if i%2 !=0:\n",
    "            t.append(i)\n",
    "    return t"
   ]
  },
  {
   "cell_type": "code",
   "execution_count": 1,
   "id": "35c2908c-e444-4117-88e6-3e30b69eef36",
   "metadata": {},
   "outputs": [
    {
     "ename": "NameError",
     "evalue": "name 'odd_number' is not defined",
     "output_type": "error",
     "traceback": [
      "\u001b[0;31m---------------------------------------------------------------------------\u001b[0m",
      "\u001b[0;31mNameError\u001b[0m                                 Traceback (most recent call last)",
      "Cell \u001b[0;32mIn[1], line 1\u001b[0m\n\u001b[0;32m----> 1\u001b[0m \u001b[43modd_number\u001b[49m(m)\n",
      "\u001b[0;31mNameError\u001b[0m: name 'odd_number' is not defined"
     ]
    }
   ],
   "source": [
    "odd_number(m)"
   ]
  },
  {
   "cell_type": "markdown",
   "id": "415f002e-deff-491a-9aca-bfd303d44d43",
   "metadata": {},
   "source": [
    "##Q2. Why *args and **kwargs is used in some functions? Create a function each for *args and **kwargs to\n",
    "demonstrate their use."
   ]
  },
  {
   "cell_type": "markdown",
   "id": "8bbbc1e5-33d5-4e1a-b246-c32fd2b7dbe7",
   "metadata": {},
   "source": [
    "Ans- They are used to paas a variable number of arguments to a function. *args is is used to pass a non-key worded, variable-length argument list while **kwargs is is used to pass a keyworded, variable-length argument list. "
   ]
  },
  {
   "cell_type": "code",
   "execution_count": 24,
   "id": "aa8a6f67-3022-4156-876b-6ebb4c70d35b",
   "metadata": {},
   "outputs": [
    {
     "name": "stdout",
     "output_type": "stream",
     "text": [
      "I\n",
      "am\n",
      "a\n",
      "freelancer\n",
      "in\n",
      "Google\n",
      "from\n",
      "Janauary\n",
      "2020\n"
     ]
    }
   ],
   "source": [
    "def fun(*args):\n",
    "    for i in args :\n",
    "        print(i)\n",
    "        \n",
    "fun(\"I\", \"am\", \"a\", \"freelancer\", \"in\", \"Google\", \"from\", \"Janauary\", 2020)"
   ]
  },
  {
   "cell_type": "code",
   "execution_count": 25,
   "id": "d6748e7d-a664-4f58-afda-6fe3176bc013",
   "metadata": {},
   "outputs": [],
   "source": [
    "def fun2(**kwargs):\n",
    "    for i in kwargs.keys():\n",
    "        if type(kwargs[i]) == tuple:\n",
    "            return i, kwargs[i]"
   ]
  },
  {
   "cell_type": "code",
   "execution_count": 30,
   "id": "9c0d2d97-84ff-438c-80c0-98e8c12e618d",
   "metadata": {},
   "outputs": [
    {
     "data": {
      "text/plain": [
       "('a', (1, 2, 3, 4))"
      ]
     },
     "execution_count": 30,
     "metadata": {},
     "output_type": "execute_result"
    }
   ],
   "source": [
    "fun2(a =(1,2,3,4),b =[1,2,3,4], c=(3,7,8), d= (\"niks\",\"prs\"))"
   ]
  },
  {
   "cell_type": "markdown",
   "id": "bb24bd81-1035-468c-be37-a582811d6ce6",
   "metadata": {},
   "source": [
    "##Q.3 What is an iterator in python? Name the method used to initialise the iterator object and the method\n",
    "used for iteration. Use these methods to print the first five elements of the given list [2, 4, 6, 8, 10, 12, 14, 16,\n",
    "18, 20]."
   ]
  },
  {
   "cell_type": "code",
   "execution_count": null,
   "id": "16417807-33bd-4b07-9d87-c1db73cee850",
   "metadata": {},
   "outputs": [],
   "source": []
  },
  {
   "cell_type": "code",
   "execution_count": null,
   "id": "00f0b931-ec1b-43d9-817c-9b80ee6b4b78",
   "metadata": {},
   "outputs": [],
   "source": []
  },
  {
   "cell_type": "markdown",
   "id": "ce1c1783-bc6a-4e16-8c8d-8181f4c5313c",
   "metadata": {},
   "source": [
    "##Q.4 What is a generator function in python? Why yield keyword is used? Give an example of a generator\n",
    "function."
   ]
  },
  {
   "cell_type": "markdown",
   "id": "b03fe78d-7bda-4844-9618-b7c77f11d647",
   "metadata": {},
   "source": [
    "Ans- a special type of function in Python that can be used to generate a sequence of values, instead of just a single value like a regular function . Yield is used to define a generator function in python"
   ]
  },
  {
   "cell_type": "code",
   "execution_count": null,
   "id": "332ecb1f-2062-45a0-a76f-6ca91a6b39e1",
   "metadata": {},
   "outputs": [],
   "source": [
    "limit < 1000 "
   ]
  },
  {
   "cell_type": "code",
   "execution_count": 4,
   "id": "944eb526-cb6c-4820-97e1-cd4798318dcd",
   "metadata": {},
   "outputs": [
    {
     "name": "stdout",
     "output_type": "stream",
     "text": [
      "2\n",
      "4\n",
      "6\n",
      "8\n",
      "10\n",
      "12\n",
      "14\n",
      "16\n",
      "18\n",
      "20\n",
      "22\n",
      "24\n",
      "26\n",
      "28\n",
      "30\n",
      "32\n",
      "34\n",
      "36\n",
      "38\n",
      "40\n"
     ]
    }
   ],
   "source": [
    "def even_numbers(limit):\n",
    "    for number in range(2, limit + 1, 2):\n",
    "        yield number\n",
    "\n",
    "for number in even_numbers(40):\n",
    "    print(number)"
   ]
  },
  {
   "cell_type": "markdown",
   "id": "df31e9b6-8d36-4be3-ace0-7c0103dfaec7",
   "metadata": {},
   "source": [
    "##Create a generator function for prime numbers less than 1000. Use the next() method to print the\n",
    "first 20 prime numbers."
   ]
  },
  {
   "cell_type": "code",
   "execution_count": 17,
   "id": "91c2db23-90e5-4b52-8040-079a5dbce17a",
   "metadata": {},
   "outputs": [
    {
     "name": "stdout",
     "output_type": "stream",
     "text": [
      "2\n",
      "3\n",
      "5\n",
      "7\n",
      "11\n",
      "13\n",
      "17\n",
      "19\n",
      "23\n",
      "29\n",
      "31\n",
      "37\n",
      "41\n",
      "43\n",
      "47\n",
      "53\n",
      "59\n",
      "61\n",
      "67\n",
      "71\n"
     ]
    }
   ],
   "source": [
    "def prime_numbers_generator():\n",
    "    yield 2\n",
    "    primes = [2]\n",
    "    for num in range(3, 1000):\n",
    "        for prime in primes:\n",
    "            if num % prime == 0:\n",
    "                break\n",
    "        else:\n",
    "            primes.append(num)\n",
    "            yield num\n",
    "\n",
    "prime_generator = prime_numbers_generator()\n",
    "\n",
    "for i in range(20):\n",
    "    print(next(prime_generator))\n",
    "        \n"
   ]
  },
  {
   "cell_type": "code",
   "execution_count": null,
   "id": "79ef8bc1-d217-4b70-a125-f44f88f1789d",
   "metadata": {},
   "outputs": [],
   "source": []
  }
 ],
 "metadata": {
  "kernelspec": {
   "display_name": "Python 3 (ipykernel)",
   "language": "python",
   "name": "python3"
  },
  "language_info": {
   "codemirror_mode": {
    "name": "ipython",
    "version": 3
   },
   "file_extension": ".py",
   "mimetype": "text/x-python",
   "name": "python",
   "nbconvert_exporter": "python",
   "pygments_lexer": "ipython3",
   "version": "3.10.8"
  }
 },
 "nbformat": 4,
 "nbformat_minor": 5
}
