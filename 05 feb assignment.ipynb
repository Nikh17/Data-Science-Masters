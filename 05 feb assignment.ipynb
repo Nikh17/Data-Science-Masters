{
 "cells": [
  {
   "cell_type": "markdown",
   "id": "1d793b20-8d99-4be4-ba52-f73918be61e1",
   "metadata": {},
   "source": [
    "Q1. Explain Class and Object with respect to Object-Oriented Programming. Give a suitable example."
   ]
  },
  {
   "cell_type": "markdown",
   "id": "9bd567f5-a75c-4441-9a64-b4cc17e40131",
   "metadata": {},
   "source": [
    "Class is a blueprint for creating objects. It contains attribute and methods while object is an instantiation of a class. When class is defined, a template(info) is defined.\n",
    "\n"
   ]
  },
  {
   "cell_type": "code",
   "execution_count": 10,
   "id": "c5a3d329-2991-4efd-93e3-c81e4a73b469",
   "metadata": {},
   "outputs": [
    {
     "name": "stdout",
     "output_type": "stream",
     "text": [
      "You are a average student of the class\n"
     ]
    }
   ],
   "source": [
    "class DSMENGLISH:\n",
    "    def __init__(self, assignments, marks):\n",
    "        self.assignments = assignments\n",
    "        self.age = marks\n",
    "        \n",
    "        \n",
    "    def assignment_evaluation(self):\n",
    "        if(self.assignments>10):\n",
    "            print(\"You are in top 10% of the class\")\n",
    "        elif(self.assignments<=10 and self.assignments>5):\n",
    "            print(\"You are a average student of the class\")\n",
    "        else:\n",
    "            print(\"You are a backbencher.. Go and complete them right now\")\n",
    "            \n",
    "nikhil = DSMENGLISH(10,78)\n",
    "nikhil.assignment_evaluation()"
   ]
  },
  {
   "cell_type": "markdown",
   "id": "f1b28348-64ce-466d-a0d8-f0a8584d5bed",
   "metadata": {},
   "source": [
    "Q2. Name the four pillars of OOPs."
   ]
  },
  {
   "cell_type": "markdown",
   "id": "5cc1c2ee-460d-4326-8b0b-47282df95a36",
   "metadata": {},
   "source": [
    "1.Inheritance\n",
    "2.Encapsulation\n",
    "3.Polymorphism\n",
    "4.Abstraction\n"
   ]
  },
  {
   "cell_type": "markdown",
   "id": "b1e3b7cc-f570-4f6d-8bd3-0e2da800c351",
   "metadata": {},
   "source": [
    "Q3. Explain why the __init__() function is used. Give a suitable example."
   ]
  },
  {
   "cell_type": "markdown",
   "id": "3b16b7a3-84cd-486d-b8e0-1100b39285d2",
   "metadata": {},
   "source": [
    "__init__() is a special method which runs first as the object is created. It is also known as constructor.It takes self and further arguments."
   ]
  },
  {
   "cell_type": "code",
   "execution_count": 16,
   "id": "b8439919-4e85-4a45-aaa5-354488781573",
   "metadata": {},
   "outputs": [
    {
     "name": "stdout",
     "output_type": "stream",
     "text": [
      "I want to become a programmer\n"
     ]
    }
   ],
   "source": [
    "class Programmer():\n",
    "    def __init__(self):\n",
    "        print(\"I want to become a programmer\")\n",
    "        \n",
    "a = Programmer()"
   ]
  },
  {
   "cell_type": "markdown",
   "id": "e97a16cb-299c-4f58-9a56-11bd03b2d613",
   "metadata": {},
   "source": [
    "Q4. Why self is used in OOPs?"
   ]
  },
  {
   "cell_type": "markdown",
   "id": "824f83e1-c40e-4271-8d0c-74f5e9bbdfb3",
   "metadata": {},
   "source": [
    "self is used as an instance (object) of the given class. This self argument help to hold information for multiple objects.\n"
   ]
  },
  {
   "cell_type": "markdown",
   "id": "4783bfb9-b39d-42ef-98c3-02e15688e146",
   "metadata": {},
   "source": [
    "Q5. What is inheritance? Give an example for each type of inheritance."
   ]
  },
  {
   "cell_type": "code",
   "execution_count": null,
   "id": "3c900098-b985-4205-a7e9-271e42360a8c",
   "metadata": {},
   "outputs": [],
   "source": [
    "Inheritance is a way of creating a new class from an existing class. there are various type of inheritance like single inheritance,multiple inheritance, multilevel inheritance,hybrid inheritance  etc."
   ]
  }
 ],
 "metadata": {
  "kernelspec": {
   "display_name": "Python 3 (ipykernel)",
   "language": "python",
   "name": "python3"
  },
  "language_info": {
   "codemirror_mode": {
    "name": "ipython",
    "version": 3
   },
   "file_extension": ".py",
   "mimetype": "text/x-python",
   "name": "python",
   "nbconvert_exporter": "python",
   "pygments_lexer": "ipython3",
   "version": "3.10.8"
  }
 },
 "nbformat": 4,
 "nbformat_minor": 5
}
